{
 "cells": [
  {
   "cell_type": "markdown",
   "id": "b84cf5bb-8de4-4add-a7da-51add5901df6",
   "metadata": {},
   "source": [
    "# __Desafío Técnico Salud Digital__\n",
    "## Marcelo Torres Cisterna"
   ]
  },
  {
   "cell_type": "code",
   "execution_count": 1,
   "id": "727a357b-180f-4f5e-a927-07f05c21b053",
   "metadata": {},
   "outputs": [],
   "source": [
    "import pandas as pd\n",
    "import numpy as np\n",
    "import matplotlib.pyplot as plt\n",
    "import seaborn as sns\n",
    "from utils import CategoryAnalyzer , CategoryPlotter"
   ]
  },
  {
   "cell_type": "markdown",
   "id": "5934bfa1-80c6-4bbf-9791-1555a240ab48",
   "metadata": {},
   "source": [
    "El archivo se convirtió a formato __Pickle__ ya que por su gran tamaño, leerlo desde Excel toma mucho tiempo"
   ]
  },
  {
   "cell_type": "code",
   "execution_count": 2,
   "id": "bc178ca7-bb52-450b-9dd4-db494fbc36b4",
   "metadata": {},
   "outputs": [],
   "source": [
    "data = pd.read_pickle(\"nsp.pkl\")"
   ]
  },
  {
   "cell_type": "markdown",
   "id": "c06825c9-f74b-42a4-b1e6-fcbaf8c482f5",
   "metadata": {},
   "source": [
    "## __Sección 1 y 2 : Exploratory Data Analysis (EDA) y Creación de Variables__"
   ]
  },
  {
   "cell_type": "markdown",
   "id": "3f363a6f-1ec8-4e6f-ae66-ac402c435810",
   "metadata": {},
   "source": [
    "### __Sección 1.1 : EDA Rápido__"
   ]
  },
  {
   "cell_type": "code",
   "execution_count": 3,
   "id": "cea4c3bf-29ca-4efa-be32-66011279e503",
   "metadata": {},
   "outputs": [
    {
     "data": {
      "text/html": [
       "<div>\n",
       "<style scoped>\n",
       "    .dataframe tbody tr th:only-of-type {\n",
       "        vertical-align: middle;\n",
       "    }\n",
       "\n",
       "    .dataframe tbody tr th {\n",
       "        vertical-align: top;\n",
       "    }\n",
       "\n",
       "    .dataframe thead th {\n",
       "        text-align: right;\n",
       "    }\n",
       "</style>\n",
       "<table border=\"1\" class=\"dataframe\">\n",
       "  <thead>\n",
       "    <tr style=\"text-align: right;\">\n",
       "      <th></th>\n",
       "      <th>id</th>\n",
       "      <th>fechanacimiento</th>\n",
       "      <th>sexo</th>\n",
       "      <th>prevision</th>\n",
       "      <th>especialidad</th>\n",
       "      <th>tipoatencion</th>\n",
       "      <th>fechareserva</th>\n",
       "      <th>fechahoracita</th>\n",
       "      <th>nsp</th>\n",
       "    </tr>\n",
       "  </thead>\n",
       "  <tbody>\n",
       "    <tr>\n",
       "      <th>0</th>\n",
       "      <td>e1f568d43f199d828c9462e05c784c16</td>\n",
       "      <td>1965-05-18</td>\n",
       "      <td>f</td>\n",
       "      <td>FONASA C</td>\n",
       "      <td>GINECOLOGIA - AGENDA MEDICA</td>\n",
       "      <td>NUEVO</td>\n",
       "      <td>2018-11-12</td>\n",
       "      <td>2018-11-27 11:00:00</td>\n",
       "      <td>0</td>\n",
       "    </tr>\n",
       "    <tr>\n",
       "      <th>1</th>\n",
       "      <td>600048a30420b4e18c0385a5ca185be5</td>\n",
       "      <td>1960-04-10</td>\n",
       "      <td>f</td>\n",
       "      <td>FONASA B</td>\n",
       "      <td>GINECOLOGIA - AGENDA MEDICA</td>\n",
       "      <td>NUEVO</td>\n",
       "      <td>2018-11-07</td>\n",
       "      <td>2018-11-16 11:00:00</td>\n",
       "      <td>0</td>\n",
       "    </tr>\n",
       "    <tr>\n",
       "      <th>2</th>\n",
       "      <td>dbe9285fa3633f6baea7e382e3f120d0</td>\n",
       "      <td>1992-02-02</td>\n",
       "      <td>f</td>\n",
       "      <td>FONASA B</td>\n",
       "      <td>OBSTETRICIA - AGENDA MEDICA</td>\n",
       "      <td>CONTROL</td>\n",
       "      <td>2018-10-30</td>\n",
       "      <td>2018-11-13 10:30:00</td>\n",
       "      <td>1</td>\n",
       "    </tr>\n",
       "  </tbody>\n",
       "</table>\n",
       "</div>"
      ],
      "text/plain": [
       "                                 id fechanacimiento sexo prevision  \\\n",
       "0  e1f568d43f199d828c9462e05c784c16      1965-05-18    f  FONASA C   \n",
       "1  600048a30420b4e18c0385a5ca185be5      1960-04-10    f  FONASA B   \n",
       "2  dbe9285fa3633f6baea7e382e3f120d0      1992-02-02    f  FONASA B   \n",
       "\n",
       "                  especialidad tipoatencion fechareserva       fechahoracita  \\\n",
       "0  GINECOLOGIA - AGENDA MEDICA        NUEVO   2018-11-12 2018-11-27 11:00:00   \n",
       "1  GINECOLOGIA - AGENDA MEDICA        NUEVO   2018-11-07 2018-11-16 11:00:00   \n",
       "2  OBSTETRICIA - AGENDA MEDICA      CONTROL   2018-10-30 2018-11-13 10:30:00   \n",
       "\n",
       "   nsp  \n",
       "0    0  \n",
       "1    0  \n",
       "2    1  "
      ]
     },
     "execution_count": 3,
     "metadata": {},
     "output_type": "execute_result"
    }
   ],
   "source": [
    "data.head(3)"
   ]
  },
  {
   "cell_type": "code",
   "execution_count": 4,
   "id": "83572418-f0e0-47a1-979f-13d7bf0b9df0",
   "metadata": {},
   "outputs": [
    {
     "name": "stdout",
     "output_type": "stream",
     "text": [
      "<class 'pandas.core.frame.DataFrame'>\n",
      "RangeIndex: 1048575 entries, 0 to 1048574\n",
      "Data columns (total 9 columns):\n",
      " #   Column           Non-Null Count    Dtype         \n",
      "---  ------           --------------    -----         \n",
      " 0   id               1048575 non-null  object        \n",
      " 1   fechanacimiento  1048575 non-null  datetime64[ns]\n",
      " 2   sexo             1048575 non-null  object        \n",
      " 3   prevision        1048575 non-null  object        \n",
      " 4   especialidad     1048575 non-null  object        \n",
      " 5   tipoatencion     1048575 non-null  object        \n",
      " 6   fechareserva     1048575 non-null  datetime64[ns]\n",
      " 7   fechahoracita    1048575 non-null  datetime64[ns]\n",
      " 8   nsp              1048575 non-null  int64         \n",
      "dtypes: datetime64[ns](3), int64(1), object(5)\n",
      "memory usage: 72.0+ MB\n"
     ]
    }
   ],
   "source": [
    "data.info()"
   ]
  },
  {
   "cell_type": "markdown",
   "id": "99132eba-0ef6-42e1-9cb0-333181e0a36c",
   "metadata": {},
   "source": [
    "Lo primero que observamos es que se trata de un set de datos bastante grande con __1 millón de registros__. Por otra parte, extrañamente y digo extraño porque habitualmente no se da, el set __NO__ contiene datos faltantes, lo cual es bastante beneficioso. Sin embargo, hay que hacer una revisión ya que puede que implícitamente si existan nulos. ¿ A qué me refiero con esto ? Básicamente que si bien los registros no presentan nulos, puede que tengan campos como __\"Desconocido\"__ o __\"No Informado\"__.  \n",
    "\n",
    "Algo que habitualmente realizo durante mis EDA en primera instancia es eliminar columnas que a priori se que son innecesarias. En el caso anterior, por ejemplo, la variable __id__ se que no me aporta ningún significado valioso, es simplemente un identificador. Sin embargo, en este caso en particular puede que sea de utilidad para identificar a ciertos pacientes que podrían aportar algún tipo de información, por lo que no la eliminaré de forma inmediata. Además, supongamos que este id es el rut del paciente. Si yo elimino la columna id y luego genero un drop_duplicates podría estar eliminando pacientes con iguales condiciones de ingreso, los cuales en teoría no serían duplicados como se indica a continuación:"
   ]
  },
  {
   "cell_type": "code",
   "execution_count": 5,
   "id": "08dcc828-914d-48be-8436-eed5f2c6a730",
   "metadata": {},
   "outputs": [
    {
     "name": "stdout",
     "output_type": "stream",
     "text": [
      "Datos antes de filtrado por Duplicación : (1048575, 9)\n",
      "Datos después de filtrado por Duplicación : (1048575, 9)\n",
      "Datos Duplicados : 0\n"
     ]
    }
   ],
   "source": [
    "print(f\"Datos antes de filtrado por Duplicación : {data.shape}\")\n",
    "print(f\"Datos después de filtrado por Duplicación : {data.drop_duplicates().shape}\")\n",
    "print(f\"Datos Duplicados : {data.shape[0] - data.drop_duplicates().shape[0]}\")"
   ]
  },
  {
   "cell_type": "markdown",
   "id": "0ddccbff-7629-40de-9005-f5c92518ba51",
   "metadata": {},
   "source": [
    "Borramos id (sin inplace para no guardar cambios en memoria) y repetimos el comando:"
   ]
  },
  {
   "cell_type": "code",
   "execution_count": 6,
   "id": "a2edb695-93c6-4fa9-9f11-1a802463b8a1",
   "metadata": {},
   "outputs": [],
   "source": [
    "noid_cols = ['fechanacimiento', 'sexo', 'prevision', 'especialidad','tipoatencion', 'fechareserva', 'fechahoracita', 'nsp']"
   ]
  },
  {
   "cell_type": "code",
   "execution_count": 7,
   "id": "a98bbf1b-84b5-484a-b3e4-5bf0a58318c5",
   "metadata": {},
   "outputs": [
    {
     "name": "stdout",
     "output_type": "stream",
     "text": [
      "Datos antes de filtrado por Duplicación : (1048575, 8)\n",
      "Datos después de filtrado por Duplicación : (1048144, 8)\n",
      "Datos Duplicados : 431\n"
     ]
    }
   ],
   "source": [
    "print(f\"Datos antes de filtrado por Duplicación : {data[noid_cols].shape}\")\n",
    "print(f\"Datos después de filtrado por Duplicación : {data[noid_cols].drop_duplicates().shape}\")\n",
    "print(f\"Datos Duplicados : {data[noid_cols].shape[0] - data[noid_cols].drop_duplicates().shape[0]}\")"
   ]
  },
  {
   "cell_type": "markdown",
   "id": "fb949235-dc6b-43fe-b155-2414e7a5f1e4",
   "metadata": {},
   "source": [
    "Si yo eliminara la columna ID estaría eliminando 431 pacientes de forma equivacada. No es un gran daño al dataset considerando que es de 1 millón de registros, pero si es importante tener esto en futuros estudios"
   ]
  },
  {
   "cell_type": "markdown",
   "id": "29594683-28db-4bce-a7d6-5b6dcaa308dd",
   "metadata": {},
   "source": [
    "Cuando realizo mis EDA, me gusta ser visual. Una imagen vale más que mil palabras. Al tratarse de problemas del área de la salud es muy probable que exista algún __Desbalanceo__ de clases:"
   ]
  },
  {
   "cell_type": "code",
   "execution_count": 8,
   "id": "f6cb729f-8e2e-4f68-bd57-f9466609a0d5",
   "metadata": {},
   "outputs": [
    {
     "data": {
      "image/png": "[encoded data removed]",
      "text/plain": [
       "<Figure size 640x480 with 1 Axes>"
      ]
     },
     "metadata": {},
     "output_type": "display_data"
    }
   ],
   "source": [
    "plt.title(\"Distribución Ausentismos\")\n",
    "sns.countplot(x = \"nsp\" , data = data);"
   ]
  },
  {
   "cell_type": "code",
   "execution_count": 9,
   "id": "dd675894-a0dc-48bc-acee-d3b17a46720d",
   "metadata": {},
   "outputs": [
    {
     "data": {
      "text/plain": [
       "nsp\n",
       "0    863367\n",
       "1    185208\n",
       "dtype: int64"
      ]
     },
     "execution_count": 9,
     "metadata": {},
     "output_type": "execute_result"
    }
   ],
   "source": [
    "data.value_counts(\"nsp\")"
   ]
  },
  {
   "cell_type": "markdown",
   "id": "787c3c0d-f273-419f-af8c-21ba48ac1adb",
   "metadata": {},
   "source": [
    "Y como era de esperarse hay un notorio desbalanceo. ¿En qué afecta esto? Principalmente en entrenar el modelo ya que al existir mayores pacientes de la clase 0, si llegamos y entrenamos el modelo, éste se va a enfocar en la clase con mayor predominancia y la que nos importa es la clase 1.  "
   ]
  },
  {
   "cell_type": "markdown",
   "id": "3077e30c-9ddb-42d2-8f0d-e84fe00a21ae",
   "metadata": {},
   "source": [
    "### __Sección 1.2 : Analizando Variables En Detalles__"
   ]
  },
  {
   "cell_type": "markdown",
   "id": "debace07-dfac-42f1-9cd6-bbd1ee19307b",
   "metadata": {},
   "source": [
    "Una de las visualizaciones que más me gusta utilizar son los countplots y los histogramas, pero añadiendo el hiperparámetro __hue__ para identificar posibles patrones entre las variables explicativas y la que buscamos explicar"
   ]
  },
  {
   "cell_type": "markdown",
   "id": "57ef02bd-0224-4924-be84-af447f8f1847",
   "metadata": {},
   "source": [
    "#### __Sección 1.2.1 : Tipo Atención__"
   ]
  },
  {
   "cell_type": "markdown",
   "id": "bdfdac25-e5ff-4d78-a82c-602a4e411e81",
   "metadata": {},
   "source": [
    "El análisis de variables lo iniciaré con aquellas variables más sencillas de explicar y como son pocas, puedo analizarlas una por una. Había comenzado con un cierto orden, pero a medida que fui avanzando lo debí reacomodar."
   ]
  },
  {
   "cell_type": "code",
   "execution_count": 11,
   "id": "0fd82245-79bb-4596-aa98-91ee65616721",
   "metadata": {},
   "outputs": [
    {
     "data": {
      "text/plain": [
       "tipoatencion\n",
       "CONTROL                      525996\n",
       "NUEVO                        250674\n",
       "EXAMENES DE LABORATORIO       57178\n",
       "TRATAMIENTO ANTICOAGULANT     48747\n",
       "AUTORIZADO CUADERNO           31873\n",
       "URGENCIA                      27381\n",
       "AUGE                          17383\n",
       "HOSPITALIZADO                 14830\n",
       "NIÑOS                         11798\n",
       "COMGES                         6777\n",
       "UCRI                           6306\n",
       "CONTROLES DE URGENCIA          5012\n",
       "ECO DUPLEX EXTREMIDADES        3739\n",
       "OFTALMOLOGIA RETINA            3417\n",
       "EMISIONES OTOACUSTICAS         3225\n",
       "PABELLON                       2835\n",
       "LASER                          2547\n",
       "PREMATURO                      2462\n",
       "ESPIROMETRIA                   2449\n",
       "PRIVACION DE SUEÑO             2348\n",
       "ARTRITIS                       2315\n",
       "GASTRO CDT                     2253\n",
       "CIRUGIA                        2126\n",
       "RECETA                         2063\n",
       "PREVENTIVAS                    1572\n",
       "PVR                            1559\n",
       "ADULTO                         1374\n",
       "TEST DE CAMINATA               1158\n",
       "TTGO                           1142\n",
       "ENFERMEDADES DEL TEJIDO        1019\n",
       "METACOLINA                      815\n",
       "FUNCION PULMONAR                655\n",
       "ECO DUPLEX CAROTIDEO            586\n",
       "LEY R. SOTO-C                   418\n",
       "QUEMADOS                        403\n",
       "LEY R. SOTO-N                   334\n",
       "ACCIDENTE VASCULAR ENCEFA       326\n",
       "OPERATORIA                      229\n",
       "FUNCIONARIOS                    198\n",
       "BRONCOPULMONAR INF              177\n",
       "BECADOS                         167\n",
       "PERITAJE NUEVO                  152\n",
       "GASES ARTERIALES                122\n",
       "TRANSPLANTES                    118\n",
       "HIPERTENCION                     98\n",
       "TRATAMIENTO (C)                  73\n",
       "PLETISMOGRAFIA DIGITAL           71\n",
       "MOLAR                            62\n",
       "OXIGENO DEPENDENCIA              11\n",
       "MAXILOFACIAL                      1\n",
       "BIOPSIA                           1\n",
       "dtype: int64"
      ]
     },
     "execution_count": 11,
     "metadata": {},
     "output_type": "execute_result"
    }
   ],
   "source": [
    "data.value_counts(\"tipoatencion\")"
   ]
  },
  {
   "cell_type": "code",
   "execution_count": 64,
   "id": "880afc5e-ac07-40da-8af3-1908a486ddac",
   "metadata": {},
   "outputs": [
    {
     "data": {
      "text/html": [
       "<div>\n",
       "<style scoped>\n",
       "    .dataframe tbody tr th:only-of-type {\n",
       "        vertical-align: middle;\n",
       "    }\n",
       "\n",
       "    .dataframe tbody tr th {\n",
       "        vertical-align: top;\n",
       "    }\n",
       "\n",
       "    .dataframe thead th {\n",
       "        text-align: right;\n",
       "    }\n",
       "</style>\n",
       "<table border=\"1\" class=\"dataframe\">\n",
       "  <thead>\n",
       "    <tr style=\"text-align: right;\">\n",
       "      <th>nsp</th>\n",
       "      <th>0</th>\n",
       "      <th>1</th>\n",
       "      <th>Tasa</th>\n",
       "    </tr>\n",
       "    <tr>\n",
       "      <th>tipoatencion</th>\n",
       "      <th></th>\n",
       "      <th></th>\n",
       "      <th></th>\n",
       "    </tr>\n",
       "  </thead>\n",
       "  <tbody>\n",
       "    <tr>\n",
       "      <th>PERITAJE NUEVO</th>\n",
       "      <td>87</td>\n",
       "      <td>65</td>\n",
       "      <td>42.76</td>\n",
       "    </tr>\n",
       "    <tr>\n",
       "      <th>AUTORIZADO CUADERNO</th>\n",
       "      <td>19503</td>\n",
       "      <td>12370</td>\n",
       "      <td>38.81</td>\n",
       "    </tr>\n",
       "    <tr>\n",
       "      <th>FUNCIONARIOS</th>\n",
       "      <td>124</td>\n",
       "      <td>74</td>\n",
       "      <td>37.37</td>\n",
       "    </tr>\n",
       "    <tr>\n",
       "      <th>ADULTO</th>\n",
       "      <td>984</td>\n",
       "      <td>390</td>\n",
       "      <td>28.38</td>\n",
       "    </tr>\n",
       "    <tr>\n",
       "      <th>FUNCION PULMONAR</th>\n",
       "      <td>471</td>\n",
       "      <td>184</td>\n",
       "      <td>28.09</td>\n",
       "    </tr>\n",
       "    <tr>\n",
       "      <th>TEST DE CAMINATA</th>\n",
       "      <td>882</td>\n",
       "      <td>276</td>\n",
       "      <td>23.83</td>\n",
       "    </tr>\n",
       "    <tr>\n",
       "      <th>PRIVACION DE SUEÑO</th>\n",
       "      <td>1796</td>\n",
       "      <td>552</td>\n",
       "      <td>23.51</td>\n",
       "    </tr>\n",
       "    <tr>\n",
       "      <th>NUEVO</th>\n",
       "      <td>194400</td>\n",
       "      <td>56270</td>\n",
       "      <td>22.45</td>\n",
       "    </tr>\n",
       "    <tr>\n",
       "      <th>METACOLINA</th>\n",
       "      <td>633</td>\n",
       "      <td>182</td>\n",
       "      <td>22.33</td>\n",
       "    </tr>\n",
       "    <tr>\n",
       "      <th>ESPIROMETRIA</th>\n",
       "      <td>1903</td>\n",
       "      <td>546</td>\n",
       "      <td>22.29</td>\n",
       "    </tr>\n",
       "    <tr>\n",
       "      <th>TRANSPLANTES</th>\n",
       "      <td>92</td>\n",
       "      <td>26</td>\n",
       "      <td>22.03</td>\n",
       "    </tr>\n",
       "    <tr>\n",
       "      <th>MOLAR</th>\n",
       "      <td>49</td>\n",
       "      <td>13</td>\n",
       "      <td>20.97</td>\n",
       "    </tr>\n",
       "    <tr>\n",
       "      <th>PLETISMOGRAFIA DIGITAL</th>\n",
       "      <td>57</td>\n",
       "      <td>14</td>\n",
       "      <td>19.72</td>\n",
       "    </tr>\n",
       "    <tr>\n",
       "      <th>TTGO</th>\n",
       "      <td>923</td>\n",
       "      <td>219</td>\n",
       "      <td>19.18</td>\n",
       "    </tr>\n",
       "    <tr>\n",
       "      <th>EMISIONES OTOACUSTICAS</th>\n",
       "      <td>2631</td>\n",
       "      <td>594</td>\n",
       "      <td>18.42</td>\n",
       "    </tr>\n",
       "    <tr>\n",
       "      <th>OXIGENO DEPENDENCIA</th>\n",
       "      <td>9</td>\n",
       "      <td>2</td>\n",
       "      <td>18.18</td>\n",
       "    </tr>\n",
       "    <tr>\n",
       "      <th>PREVENTIVAS</th>\n",
       "      <td>1291</td>\n",
       "      <td>280</td>\n",
       "      <td>17.82</td>\n",
       "    </tr>\n",
       "    <tr>\n",
       "      <th>PABELLON</th>\n",
       "      <td>2332</td>\n",
       "      <td>503</td>\n",
       "      <td>17.74</td>\n",
       "    </tr>\n",
       "    <tr>\n",
       "      <th>TRATAMIENTO (C)</th>\n",
       "      <td>61</td>\n",
       "      <td>12</td>\n",
       "      <td>16.44</td>\n",
       "    </tr>\n",
       "    <tr>\n",
       "      <th>PREMATURO</th>\n",
       "      <td>2060</td>\n",
       "      <td>402</td>\n",
       "      <td>16.33</td>\n",
       "    </tr>\n",
       "    <tr>\n",
       "      <th>EXAMENES DE LABORATORIO</th>\n",
       "      <td>47882</td>\n",
       "      <td>9296</td>\n",
       "      <td>16.26</td>\n",
       "    </tr>\n",
       "    <tr>\n",
       "      <th>ECO DUPLEX CAROTIDEO</th>\n",
       "      <td>492</td>\n",
       "      <td>94</td>\n",
       "      <td>16.04</td>\n",
       "    </tr>\n",
       "    <tr>\n",
       "      <th>COMGES</th>\n",
       "      <td>5694</td>\n",
       "      <td>1083</td>\n",
       "      <td>15.98</td>\n",
       "    </tr>\n",
       "    <tr>\n",
       "      <th>CONTROL</th>\n",
       "      <td>443851</td>\n",
       "      <td>82141</td>\n",
       "      <td>15.62</td>\n",
       "    </tr>\n",
       "    <tr>\n",
       "      <th>GASES ARTERIALES</th>\n",
       "      <td>103</td>\n",
       "      <td>19</td>\n",
       "      <td>15.57</td>\n",
       "    </tr>\n",
       "    <tr>\n",
       "      <th>NIÑOS</th>\n",
       "      <td>9965</td>\n",
       "      <td>1833</td>\n",
       "      <td>15.54</td>\n",
       "    </tr>\n",
       "    <tr>\n",
       "      <th>TRATAMIENTO ANTICOAGULANT</th>\n",
       "      <td>41205</td>\n",
       "      <td>7541</td>\n",
       "      <td>15.47</td>\n",
       "    </tr>\n",
       "    <tr>\n",
       "      <th>GASTRO CDT</th>\n",
       "      <td>1923</td>\n",
       "      <td>330</td>\n",
       "      <td>14.65</td>\n",
       "    </tr>\n",
       "    <tr>\n",
       "      <th>LASER</th>\n",
       "      <td>2182</td>\n",
       "      <td>365</td>\n",
       "      <td>14.33</td>\n",
       "    </tr>\n",
       "    <tr>\n",
       "      <th>QUEMADOS</th>\n",
       "      <td>346</td>\n",
       "      <td>57</td>\n",
       "      <td>14.14</td>\n",
       "    </tr>\n",
       "    <tr>\n",
       "      <th>BRONCOPULMONAR INF</th>\n",
       "      <td>152</td>\n",
       "      <td>25</td>\n",
       "      <td>14.12</td>\n",
       "    </tr>\n",
       "    <tr>\n",
       "      <th>PVR</th>\n",
       "      <td>1349</td>\n",
       "      <td>210</td>\n",
       "      <td>13.47</td>\n",
       "    </tr>\n",
       "    <tr>\n",
       "      <th>UCRI</th>\n",
       "      <td>5469</td>\n",
       "      <td>837</td>\n",
       "      <td>13.27</td>\n",
       "    </tr>\n",
       "    <tr>\n",
       "      <th>ECO DUPLEX EXTREMIDADES</th>\n",
       "      <td>3246</td>\n",
       "      <td>493</td>\n",
       "      <td>13.19</td>\n",
       "    </tr>\n",
       "    <tr>\n",
       "      <th>ACCIDENTE VASCULAR ENCEFA</th>\n",
       "      <td>284</td>\n",
       "      <td>42</td>\n",
       "      <td>12.88</td>\n",
       "    </tr>\n",
       "    <tr>\n",
       "      <th>AUGE</th>\n",
       "      <td>15272</td>\n",
       "      <td>2111</td>\n",
       "      <td>12.14</td>\n",
       "    </tr>\n",
       "    <tr>\n",
       "      <th>HOSPITALIZADO</th>\n",
       "      <td>13070</td>\n",
       "      <td>1760</td>\n",
       "      <td>11.87</td>\n",
       "    </tr>\n",
       "    <tr>\n",
       "      <th>LEY R. SOTO-C</th>\n",
       "      <td>369</td>\n",
       "      <td>49</td>\n",
       "      <td>11.72</td>\n",
       "    </tr>\n",
       "    <tr>\n",
       "      <th>CONTROLES DE URGENCIA</th>\n",
       "      <td>4430</td>\n",
       "      <td>582</td>\n",
       "      <td>11.61</td>\n",
       "    </tr>\n",
       "    <tr>\n",
       "      <th>OFTALMOLOGIA RETINA</th>\n",
       "      <td>3060</td>\n",
       "      <td>357</td>\n",
       "      <td>10.45</td>\n",
       "    </tr>\n",
       "    <tr>\n",
       "      <th>CIRUGIA</th>\n",
       "      <td>1919</td>\n",
       "      <td>207</td>\n",
       "      <td>9.74</td>\n",
       "    </tr>\n",
       "    <tr>\n",
       "      <th>ARTRITIS</th>\n",
       "      <td>2096</td>\n",
       "      <td>219</td>\n",
       "      <td>9.46</td>\n",
       "    </tr>\n",
       "    <tr>\n",
       "      <th>OPERATORIA</th>\n",
       "      <td>209</td>\n",
       "      <td>20</td>\n",
       "      <td>8.73</td>\n",
       "    </tr>\n",
       "    <tr>\n",
       "      <th>URGENCIA</th>\n",
       "      <td>25097</td>\n",
       "      <td>2284</td>\n",
       "      <td>8.34</td>\n",
       "    </tr>\n",
       "    <tr>\n",
       "      <th>ENFERMEDADES DEL TEJIDO</th>\n",
       "      <td>940</td>\n",
       "      <td>79</td>\n",
       "      <td>7.75</td>\n",
       "    </tr>\n",
       "    <tr>\n",
       "      <th>RECETA</th>\n",
       "      <td>1905</td>\n",
       "      <td>158</td>\n",
       "      <td>7.66</td>\n",
       "    </tr>\n",
       "    <tr>\n",
       "      <th>LEY R. SOTO-N</th>\n",
       "      <td>311</td>\n",
       "      <td>23</td>\n",
       "      <td>6.89</td>\n",
       "    </tr>\n",
       "    <tr>\n",
       "      <th>HIPERTENCION</th>\n",
       "      <td>93</td>\n",
       "      <td>5</td>\n",
       "      <td>5.10</td>\n",
       "    </tr>\n",
       "    <tr>\n",
       "      <th>BECADOS</th>\n",
       "      <td>159</td>\n",
       "      <td>8</td>\n",
       "      <td>4.79</td>\n",
       "    </tr>\n",
       "  </tbody>\n",
       "</table>\n",
       "</div>"
      ],
      "text/plain": [
       "nsp                             0      1   Tasa\n",
       "tipoatencion                                   \n",
       "PERITAJE NUEVO                 87     65  42.76\n",
       "AUTORIZADO CUADERNO         19503  12370  38.81\n",
       "FUNCIONARIOS                  124     74  37.37\n",
       "ADULTO                        984    390  28.38\n",
       "FUNCION PULMONAR              471    184  28.09\n",
       "TEST DE CAMINATA              882    276  23.83\n",
       "PRIVACION DE SUEÑO           1796    552  23.51\n",
       "NUEVO                      194400  56270  22.45\n",
       "METACOLINA                    633    182  22.33\n",
       "ESPIROMETRIA                 1903    546  22.29\n",
       "TRANSPLANTES                   92     26  22.03\n",
       "MOLAR                          49     13  20.97\n",
       "PLETISMOGRAFIA DIGITAL         57     14  19.72\n",
       "TTGO                          923    219  19.18\n",
       "EMISIONES OTOACUSTICAS       2631    594  18.42\n",
       "OXIGENO DEPENDENCIA             9      2  18.18\n",
       "PREVENTIVAS                  1291    280  17.82\n",
       "PABELLON                     2332    503  17.74\n",
       "TRATAMIENTO (C)                61     12  16.44\n",
       "PREMATURO                    2060    402  16.33\n",
       "EXAMENES DE LABORATORIO     47882   9296  16.26\n",
       "ECO DUPLEX CAROTIDEO          492     94  16.04\n",
       "COMGES                       5694   1083  15.98\n",
       "CONTROL                    443851  82141  15.62\n",
       "GASES ARTERIALES              103     19  15.57\n",
       "NIÑOS                        9965   1833  15.54\n",
       "TRATAMIENTO ANTICOAGULANT   41205   7541  15.47\n",
       "GASTRO CDT                   1923    330  14.65\n",
       "LASER                        2182    365  14.33\n",
       "QUEMADOS                      346     57  14.14\n",
       "BRONCOPULMONAR INF            152     25  14.12\n",
       "PVR                          1349    210  13.47\n",
       "UCRI                         5469    837  13.27\n",
       "ECO DUPLEX EXTREMIDADES      3246    493  13.19\n",
       "ACCIDENTE VASCULAR ENCEFA     284     42  12.88\n",
       "AUGE                        15272   2111  12.14\n",
       "HOSPITALIZADO               13070   1760  11.87\n",
       "LEY R. SOTO-C                 369     49  11.72\n",
       "CONTROLES DE URGENCIA        4430    582  11.61\n",
       "OFTALMOLOGIA RETINA          3060    357  10.45\n",
       "CIRUGIA                      1919    207   9.74\n",
       "ARTRITIS                     2096    219   9.46\n",
       "OPERATORIA                    209     20   8.73\n",
       "URGENCIA                    25097   2284   8.34\n",
       "ENFERMEDADES DEL TEJIDO       940     79   7.75\n",
       "RECETA                       1905    158   7.66\n",
       "LEY R. SOTO-N                 311     23   6.89\n",
       "HIPERTENCION                   93      5   5.10\n",
       "BECADOS                       159      8   4.79"
      ]
     },
     "execution_count": 64,
     "metadata": {},
     "output_type": "execute_result"
    }
   ],
   "source": [
    "CategoryAnalyzer(data , \"tipoatencion\" , \"nsp\")"
   ]
  },
  {
   "cell_type": "markdown",
   "id": "bec754f7-0ff0-4639-b3e9-09845132c108",
   "metadata": {},
   "source": [
    "Primero, notamos que del millón de datos tenemos 1 solo paciente para __BIOPSIA__ y __MAXILOFACIAL__. Por lo mismo, los quitaremos del set de datos."
   ]
  },
  {
   "cell_type": "code",
   "execution_count": 65,
   "id": "ddd0913a-dd23-47d0-a906-0ae156b6262d",
   "metadata": {},
   "outputs": [],
   "source": [
    "data = data[(data[\"tipoatencion\"] != \"BIOPSIA\") & (data[\"tipoatencion\"] != \"MAXILOFACIAL\")]"
   ]
  },
  {
   "cell_type": "markdown",
   "id": "8f221d14-6bde-439a-9f2b-9f03121eb410",
   "metadata": {},
   "source": [
    "Notamos que hay dos atenciones con notorias tasas de ausentismos : __PERITAJE NUEVO__ y \n",
    "__AUTORIZADO CUADERNO__. El segundo concepto es encesario indagarlo ya que su nombre es un poco ambigüo"
   ]
  },
  {
   "cell_type": "markdown",
   "id": "997a6f54-0849-4120-93f5-f59249803cab",
   "metadata": {},
   "source": [
    "#### __Sección 1.2.2 : Sexo__"
   ]
  },
  {
   "cell_type": "code",
   "execution_count": 67,
   "id": "3546bacc-5977-43d0-9386-3e16a78397d9",
   "metadata": {},
   "outputs": [
    {
     "data": {
      "image/png": "[encoded data removed]",
      "text/plain": [
       "<Figure size 1200x500 with 1 Axes>"
      ]
     },
     "metadata": {},
     "output_type": "display_data"
    }
   ],
   "source": [
    "plt.figure(figsize = (12,5))\n",
    "plt.title(\"Ausentismo Según Sexo\")\n",
    "sns.countplot(data = data, x='nsp' , hue = \"sexo\");"
   ]
  },
  {
   "cell_type": "markdown",
   "id": "d15818af-df4e-41a5-af77-ddbe4d556760",
   "metadata": {},
   "source": [
    "Notamos un leve ausentismo mayor en mujeres que en hombres. Sin embargo, no es algo tan notorio. De todas maneras esto no implica que debamos descartar la variable inmediatamente."
   ]
  },
  {
   "cell_type": "markdown",
   "id": "27af209c-88ae-4d25-ba19-dd32f3876c6b",
   "metadata": {},
   "source": [
    "#### __Sección 1.2.2 : Especialidad__"
   ]
  },
  {
   "cell_type": "markdown",
   "id": "6d2d39bb-ee43-487e-88cf-667318542a2c",
   "metadata": {},
   "source": [
    "Siguiendo con la variable __especialidad__ primero debemos analizar cuántas categorías tenemos. Esto lo podemos hacer fácilmente con el comando __unique__:"
   ]
  },
  {
   "cell_type": "code",
   "execution_count": 68,
   "id": "b9181abf-2ea3-4a20-a717-9e2dd2ffdd37",
   "metadata": {},
   "outputs": [
    {
     "data": {
      "text/plain": [
       "(97,)"
      ]
     },
     "execution_count": 68,
     "metadata": {},
     "output_type": "execute_result"
    }
   ],
   "source": [
    "data.especialidad.unique().shape"
   ]
  },
  {
   "cell_type": "markdown",
   "id": "c6c22e97-a1d7-47b2-9035-0fefe3ab9f64",
   "metadata": {},
   "source": [
    "Notamos que hay una gran variedad de __97__ valores por lo que es una gran oportunidad para realizar un poco de __Feature Engineering__. Veamos algunos ejemplos de las especialidades:"
   ]
  },
  {
   "cell_type": "code",
   "execution_count": 69,
   "id": "9e237189-5477-482d-a5c7-9e139a9a9e55",
   "metadata": {},
   "outputs": [
    {
     "data": {
      "text/plain": [
       "array(['GINECOLOGIA - AGENDA MEDICA', 'OBSTETRICIA - AGENDA MEDICA',\n",
       "       'MEDICINA GENERAL - AGENDA MEDICA', 'ONCOLOGIA - AGENDA MEDICA',\n",
       "       'OFTALMOLOGIA - AGENDA MEDICA',\n",
       "       'TRAUMATOLOGIA Y ORTOPEDIA - AGENDA MEDICA',\n",
       "       'REHABILITACION: PROTESIS REMOVIBLE - AGENDA ODONTOLOGO',\n",
       "       'OPERATORIA - AGENDA ODONTOLOGO', 'HEMATOLOGIA - AGENDA MEDICA',\n",
       "       'PEDIATRIA - AGENDA MEDICA', 'PSIQUIATRIA ADULTO - AGENDA MEDICA',\n",
       "       'CIRUGIA GENERAL - AGENDA MEDICA',\n",
       "       'NEUROLOGIA ADULTO - AGENDA MEDICA',\n",
       "       'CIRUGIA PEDIATRICA - AGENDA MEDICA',\n",
       "       'REUMATOLOGIA - AGENDA MEDICA',\n",
       "       'CIRUGIA DE CABEZA, CUELLO Y MAXILOFACIAL - AGENDA MEDICA',\n",
       "       'MEDICINA INTERNA - AGENDA MEDICA',\n",
       "       'COLOPROCTOLOGICA - AGENDA MEDICA', 'UROLOGIA - AGENDA MEDICA',\n",
       "       'OTORRINOLARINGOLOGIA - AGENDA MEDICA',\n",
       "       'GASTROENTEROLOGIA ADULTO - AGENDA MEDICA',\n",
       "       'MEDICINA FISICA Y REHABILITACION - AGENDA MEDICA',\n",
       "       'NEUROLOGIA PEDIATRICA - AGENDA MEDICA',\n",
       "       'CIRUGIA VASCULAR PERIFERICA - AGENDA MEDICA',\n",
       "       'DERMATOLOGIA - AGENDA MEDICA', 'CARDIOLOGIA - AGENDA MEDICA',\n",
       "       'CIRUGIA TORAX - AGENDA MEDICA', 'BRONCOPULMONAR - AGENDA MEDICA',\n",
       "       'NEUROCIRUGIA - AGENDA MEDICA',\n",
       "       'ODONTOPEDIATRIA - AGENDA ODONTOLOGO'], dtype=object)"
      ]
     },
     "execution_count": 69,
     "metadata": {},
     "output_type": "execute_result"
    }
   ],
   "source": [
    "data.especialidad.unique()[:30]"
   ]
  },
  {
   "cell_type": "markdown",
   "id": "22197198-d8fa-496b-a0ed-1237060c8f5e",
   "metadata": {},
   "source": [
    "Notamos un cierto patrón. La primera parte de la especialidad corresponde por decirlo de alguna manera a la categoría de la misma, mientras que la segunda parte, lo que viene después del guión, corresponde __AGENDA__ o __PROCEDIMIENTOS__ u __OTROS__. Limpiando un poco los textos obtenemos lo siguiente:"
   ]
  },
  {
   "cell_type": "code",
   "execution_count": 71,
   "id": "a2e329e2-b3b9-450a-87e6-8c569c247dd5",
   "metadata": {},
   "outputs": [],
   "source": [
    "ag_proc_ot = [x.split(\"-\")[-1].strip().split()[0] for x in data.especialidad]\n",
    "data[\"ag_proc_ot\"] = ag_proc_ot"
   ]
  },
  {
   "cell_type": "code",
   "execution_count": 72,
   "id": "7c1798b2-320d-4a64-ab73-61b57a20fe5b",
   "metadata": {},
   "outputs": [
    {
     "data": {
      "text/plain": [
       "ag_proc_ot\n",
       "AGENDA            681794\n",
       "OTROS             233743\n",
       "PROCEDIMIENTOS    127717\n",
       "ACTIVIDADES         5309\n",
       "dtype: int64"
      ]
     },
     "execution_count": 72,
     "metadata": {},
     "output_type": "execute_result"
    }
   ],
   "source": [
    "data.value_counts(\"ag_proc_ot\")"
   ]
  },
  {
   "cell_type": "code",
   "execution_count": 73,
   "id": "c0d1a1f1-d244-4645-a9a8-21d82c4dbe51",
   "metadata": {},
   "outputs": [
    {
     "data": {
      "text/plain": [
       "array(['PSIQUIATRIA - OTROS PROFESIONALES',\n",
       "       'OTORRINOLARINGOLOGIA -OTROS PROFESIONALES',\n",
       "       'MEDICINA INTEGRAL - OTROS PROFESIONALES',\n",
       "       'MEDICINA FISICA Y REHABILITACION - OTROS PROFESIONALES',\n",
       "       'BRONCOPULMONAR - OTROS PROFESIONALES',\n",
       "       'NUTRICION - OTROS PROFESIONALES',\n",
       "       'MEDICINA INTERNA - OTROS PROFESIONALES',\n",
       "       'CARDIOLOGIA - OTROS PROFESIONALES',\n",
       "       'UROLOGIA - OTROS PROFESIONALES',\n",
       "       'CIRUGIA PLASTICA - OTROS PROFESIONALES',\n",
       "       'ONCOLOGIA - OTROS PROFESIONALES',\n",
       "       'CIRUGIA ADULTO - OTROS PROFESIONALES',\n",
       "       'OBSTETRICIA - OTROS PROFESIONALES',\n",
       "       'DERMATOLOGIA - OTROS PROFESIONALES',\n",
       "       'RADIOTERAPIA ONCOLOGICA - OTROS PROFESIONALES',\n",
       "       'PSIQUIATRIA PEDIATRICA Y DE LA ADOLESCENCIA - OTROS PROFESIONALES',\n",
       "       'TRAUMATOLOGIA - OTROS PROFESIONALES',\n",
       "       'MEDICINA FAMILIAR - OTROS PROFESIONALES',\n",
       "       'GERIATRIA - OTROS PROFESIONALES'], dtype=object)"
      ]
     },
     "execution_count": 73,
     "metadata": {},
     "output_type": "execute_result"
    }
   ],
   "source": [
    "data[data[\"ag_proc_ot\"] == \"OTROS\"].especialidad.unique()"
   ]
  },
  {
   "cell_type": "code",
   "execution_count": 74,
   "id": "33768315-d46d-4377-9b1f-d87aaf932aeb",
   "metadata": {},
   "outputs": [
    {
     "data": {
      "text/plain": [
       "array(['ACTIVIDADES ODONTOLOGIA GENERAL'], dtype=object)"
      ]
     },
     "execution_count": 74,
     "metadata": {},
     "output_type": "execute_result"
    }
   ],
   "source": [
    "data[data[\"ag_proc_ot\"] == \"ACTIVIDADES\"].especialidad.unique()"
   ]
  },
  {
   "cell_type": "markdown",
   "id": "9f938c39-f364-427c-8e86-a58c1ac4d089",
   "metadata": {},
   "source": [
    "Luego de la limpieza pasamos de 97 categorías a simplemente 4. La categoría __OTROS__ hace referencia a __OTROS PROFESIONALES__ , mientras que __ACTIVIDADES__ hace referencia a __ACTIVIDADES ODONTOLOGÍA GENERAL__"
   ]
  },
  {
   "cell_type": "code",
   "execution_count": 75,
   "id": "fdb35c94-3268-4fb0-b384-7d66a52f7749",
   "metadata": {},
   "outputs": [
    {
     "data": {
      "image/png": "[encoded data removed]",
      "text/plain": [
       "<Figure size 640x480 with 1 Axes>"
      ]
     },
     "metadata": {},
     "output_type": "display_data"
    }
   ],
   "source": [
    "CategoryPlotter(data , \"ag_proc_ot\" , \"nsp\" , \"Ausentismo Según Nueva Especialidad\")"
   ]
  },
  {
   "cell_type": "markdown",
   "id": "a00c42d1-3a19-4e83-a2b9-644338be3027",
   "metadata": {},
   "source": [
    "Como primera conclusión de lo anterior notamos que la mayor cantidad de ausentismos se da en el caso de las __AGENDAS MÉDICAS__, sin embargo, es importante entender esto en términos proporcionales ya que como la mayoría de las especialidades son __AGENDAS MÉDICAS__ es bastante probable que también tengan las mayores cantidades de ausentismos"
   ]
  },
  {
   "cell_type": "code",
   "execution_count": 76,
   "id": "2f43fc27-d03c-4fbd-ac31-e820b26fb307",
   "metadata": {},
   "outputs": [
    {
     "data": {
      "text/html": [
       "<div>\n",
       "<style scoped>\n",
       "    .dataframe tbody tr th:only-of-type {\n",
       "        vertical-align: middle;\n",
       "    }\n",
       "\n",
       "    .dataframe tbody tr th {\n",
       "        vertical-align: top;\n",
       "    }\n",
       "\n",
       "    .dataframe thead th {\n",
       "        text-align: right;\n",
       "    }\n",
       "</style>\n",
       "<table border=\"1\" class=\"dataframe\">\n",
       "  <thead>\n",
       "    <tr style=\"text-align: right;\">\n",
       "      <th>nsp</th>\n",
       "      <th>0</th>\n",
       "      <th>1</th>\n",
       "      <th>Tasa</th>\n",
       "    </tr>\n",
       "    <tr>\n",
       "      <th>ag_proc_ot</th>\n",
       "      <th></th>\n",
       "      <th></th>\n",
       "      <th></th>\n",
       "    </tr>\n",
       "  </thead>\n",
       "  <tbody>\n",
       "    <tr>\n",
       "      <th>OTROS</th>\n",
       "      <td>168915</td>\n",
       "      <td>64828</td>\n",
       "      <td>27.73</td>\n",
       "    </tr>\n",
       "    <tr>\n",
       "      <th>PROCEDIMIENTOS</th>\n",
       "      <td>104683</td>\n",
       "      <td>23034</td>\n",
       "      <td>18.04</td>\n",
       "    </tr>\n",
       "    <tr>\n",
       "      <th>AGENDA</th>\n",
       "      <td>584936</td>\n",
       "      <td>96858</td>\n",
       "      <td>14.21</td>\n",
       "    </tr>\n",
       "    <tr>\n",
       "      <th>ACTIVIDADES</th>\n",
       "      <td>4827</td>\n",
       "      <td>482</td>\n",
       "      <td>9.08</td>\n",
       "    </tr>\n",
       "  </tbody>\n",
       "</table>\n",
       "</div>"
      ],
      "text/plain": [
       "nsp                  0      1   Tasa\n",
       "ag_proc_ot                          \n",
       "OTROS           168915  64828  27.73\n",
       "PROCEDIMIENTOS  104683  23034  18.04\n",
       "AGENDA          584936  96858  14.21\n",
       "ACTIVIDADES       4827    482   9.08"
      ]
     },
     "execution_count": 76,
     "metadata": {},
     "output_type": "execute_result"
    }
   ],
   "source": [
    "tasa_ag_proc = CategoryAnalyzer(data , \"ag_proc_ot\" , \"nsp\")\n",
    "tasa_ag_proc"
   ]
  },
  {
   "cell_type": "markdown",
   "id": "55165561-4001-4005-9b49-22016c3856c6",
   "metadata": {},
   "source": [
    "Notamos que las especialidades vinculadas a __OTROS PROFESIONALES__ tienen una tasa de ausentismo de un 28% siendo la más alta seguida de __PROCEDIMIENTOS__. Además, las __ACTIVIDADES ODONTOLÓGICAS__ también poseen un 9% de ausentismo, lo cual no se puede ver en el gráfico, por eso siempre la importancia de combinar números con visualizaciones"
   ]
  },
  {
   "cell_type": "markdown",
   "id": "14ce253d-4dd7-4f30-9587-fec7b9acb709",
   "metadata": {
    "tags": []
   },
   "source": [
    "#### __Sección 1.2.3 : Previsión__"
   ]
  },
  {
   "cell_type": "markdown",
   "id": "d4a7563a-8ac6-4fb9-a8ad-a75a77b861f3",
   "metadata": {},
   "source": [
    "De forma similar a lo anterior comenzamos viendo la variedad de los datos que componen esta variable"
   ]
  },
  {
   "cell_type": "code",
   "execution_count": 77,
   "id": "40f85bf8-ffe4-49e3-921f-5e84db670d2a",
   "metadata": {},
   "outputs": [
    {
     "data": {
      "text/plain": [
       "prevision\n",
       "FONASA B                           576675\n",
       "FONASA A                           244893\n",
       "FONASA D                           116544\n",
       "FONASA C                            99103\n",
       "NO ESPECIFICADO                      5179\n",
       "DIPRECA                              2075\n",
       "COLMENA GOLDEN CROSS S.A.             771\n",
       "AT. PARTICULAR                        717\n",
       "CONSALUD S.A.                         563\n",
       "MAS VIDA S.A.                         498\n",
       "ISAPRE BANMEDICA S.A.                 425\n",
       "ING SALUD ( EX CRUZ BLANCA S.A)       399\n",
       "CAPREDENA                             357\n",
       "JEAFOSALE                             120\n",
       "FERROSALUD S.A.                        91\n",
       "CIGNA SALUD ISAPRE S.A                 77\n",
       "VIDA TRES S.A.                         63\n",
       "F.A.S.T BANCO DEL ESTADO               13\n",
       "dtype: int64"
      ]
     },
     "execution_count": 77,
     "metadata": {},
     "output_type": "execute_result"
    }
   ],
   "source": [
    "data.value_counts(\"prevision\")"
   ]
  },
  {
   "cell_type": "markdown",
   "id": "53737a13-b178-49b0-b414-bc1b37a31594",
   "metadata": {},
   "source": [
    "Notamos que hay __23__ categorías diferentes, de tal forma que es necesario realizar una limpieza pues hay algunas categorías que presentan 1 solo usuario de un universo de 1 millón por lo que se pueden eliminar. "
   ]
  },
  {
   "cell_type": "code",
   "execution_count": 78,
   "id": "5d3468f2-dfa8-4542-904a-7487096d5977",
   "metadata": {},
   "outputs": [],
   "source": [
    "data = data[data[\"prevision\"] != \"FONASA\"]"
   ]
  },
  {
   "cell_type": "markdown",
   "id": "6e467ba8-2fdf-4957-81ce-56d9b611c155",
   "metadata": {},
   "source": [
    "Primero calculamos una tasa para cada categoría:"
   ]
  },
  {
   "cell_type": "code",
   "execution_count": 79,
   "id": "e0a5647a-e220-4422-a9e7-c3e8328dfbff",
   "metadata": {},
   "outputs": [
    {
     "data": {
      "text/plain": [
       "prevision\n",
       "FONASA B                           54.996695\n",
       "FONASA A                           23.355106\n",
       "FONASA D                           11.114640\n",
       "FONASA C                            9.451316\n",
       "NO ESPECIFICADO                     0.493914\n",
       "DIPRECA                             0.197890\n",
       "COLMENA GOLDEN CROSS S.A.           0.073529\n",
       "AT. PARTICULAR                      0.068379\n",
       "CONSALUD S.A.                       0.053693\n",
       "MAS VIDA S.A.                       0.047494\n",
       "ISAPRE BANMEDICA S.A.               0.040532\n",
       "ING SALUD ( EX CRUZ BLANCA S.A)     0.038052\n",
       "CAPREDENA                           0.034047\n",
       "JEAFOSALE                           0.011444\n",
       "FERROSALUD S.A.                     0.008679\n",
       "CIGNA SALUD ISAPRE S.A              0.007343\n",
       "VIDA TRES S.A.                      0.006008\n",
       "F.A.S.T BANCO DEL ESTADO            0.001240\n",
       "dtype: float64"
      ]
     },
     "execution_count": 79,
     "metadata": {},
     "output_type": "execute_result"
    }
   ],
   "source": [
    "(data.value_counts(\"prevision\")/len(data) * 100)"
   ]
  },
  {
   "cell_type": "markdown",
   "id": "c84dcf77-5ada-4392-9b16-039fa517a779",
   "metadata": {},
   "source": [
    "Hay claramente 3 previsiones que predominan el set de datos __FONASA B, A y D__ que suman casi un 90% del total de datos. Analicemos el comportamiento de estas mayorías"
   ]
  },
  {
   "cell_type": "code",
   "execution_count": 80,
   "id": "ba6608e3-e139-45c7-aa1c-dede268fb601",
   "metadata": {},
   "outputs": [],
   "source": [
    "datafon = data[(data[\"prevision\"] == \"FONASA B\") | (data[\"prevision\"] == \"FONASA A\") |\n",
    "               (data[\"prevision\"] == \"FONASA D\")]"
   ]
  },
  {
   "cell_type": "code",
   "execution_count": 81,
   "id": "794cfe92-e3dc-4c80-8ff6-1f23ff03722a",
   "metadata": {},
   "outputs": [
    {
     "data": {
      "image/png": "[encoded data removed]",
      "text/plain": [
       "<Figure size 640x480 with 1 Axes>"
      ]
     },
     "metadata": {},
     "output_type": "display_data"
    }
   ],
   "source": [
    "CategoryPlotter(datafon , \"prevision\" , \"nsp\" , \"Ausentismo Según FONASA B, A Y D\")"
   ]
  },
  {
   "cell_type": "code",
   "execution_count": 82,
   "id": "d3d3d239-0205-46d2-8186-e0666358037c",
   "metadata": {},
   "outputs": [
    {
     "data": {
      "text/html": [
       "<div>\n",
       "<style scoped>\n",
       "    .dataframe tbody tr th:only-of-type {\n",
       "        vertical-align: middle;\n",
       "    }\n",
       "\n",
       "    .dataframe tbody tr th {\n",
       "        vertical-align: top;\n",
       "    }\n",
       "\n",
       "    .dataframe thead th {\n",
       "        text-align: right;\n",
       "    }\n",
       "</style>\n",
       "<table border=\"1\" class=\"dataframe\">\n",
       "  <thead>\n",
       "    <tr style=\"text-align: right;\">\n",
       "      <th>nsp</th>\n",
       "      <th>0</th>\n",
       "      <th>1</th>\n",
       "      <th>Tasa</th>\n",
       "    </tr>\n",
       "    <tr>\n",
       "      <th>prevision</th>\n",
       "      <th></th>\n",
       "      <th></th>\n",
       "      <th></th>\n",
       "    </tr>\n",
       "  </thead>\n",
       "  <tbody>\n",
       "    <tr>\n",
       "      <th>FONASA A</th>\n",
       "      <td>198928</td>\n",
       "      <td>45965</td>\n",
       "      <td>18.77</td>\n",
       "    </tr>\n",
       "    <tr>\n",
       "      <th>FONASA D</th>\n",
       "      <td>96414</td>\n",
       "      <td>20130</td>\n",
       "      <td>17.27</td>\n",
       "    </tr>\n",
       "    <tr>\n",
       "      <th>FONASA B</th>\n",
       "      <td>478123</td>\n",
       "      <td>98552</td>\n",
       "      <td>17.09</td>\n",
       "    </tr>\n",
       "  </tbody>\n",
       "</table>\n",
       "</div>"
      ],
      "text/plain": [
       "nsp             0      1   Tasa\n",
       "prevision                      \n",
       "FONASA A   198928  45965  18.77\n",
       "FONASA D    96414  20130  17.27\n",
       "FONASA B   478123  98552  17.09"
      ]
     },
     "execution_count": 82,
     "metadata": {},
     "output_type": "execute_result"
    }
   ],
   "source": [
    "tasa_prev = CategoryAnalyzer(datafon , \"prevision\" , \"nsp\")\n",
    "tasa_prev"
   ]
  },
  {
   "cell_type": "markdown",
   "id": "1bab65b1-83d2-4a60-aee9-fa1b425a34b6",
   "metadata": {},
   "source": [
    "Repetimos el proceso, pero para todas las previsiones"
   ]
  },
  {
   "cell_type": "code",
   "execution_count": 83,
   "id": "3d0e7f8e-bfcd-4bb6-a810-19652780d39a",
   "metadata": {},
   "outputs": [
    {
     "data": {
      "text/html": [
       "<div>\n",
       "<style scoped>\n",
       "    .dataframe tbody tr th:only-of-type {\n",
       "        vertical-align: middle;\n",
       "    }\n",
       "\n",
       "    .dataframe tbody tr th {\n",
       "        vertical-align: top;\n",
       "    }\n",
       "\n",
       "    .dataframe thead th {\n",
       "        text-align: right;\n",
       "    }\n",
       "</style>\n",
       "<table border=\"1\" class=\"dataframe\">\n",
       "  <thead>\n",
       "    <tr style=\"text-align: right;\">\n",
       "      <th>nsp</th>\n",
       "      <th>0</th>\n",
       "      <th>1</th>\n",
       "      <th>Tasa</th>\n",
       "    </tr>\n",
       "    <tr>\n",
       "      <th>prevision</th>\n",
       "      <th></th>\n",
       "      <th></th>\n",
       "      <th></th>\n",
       "    </tr>\n",
       "  </thead>\n",
       "  <tbody>\n",
       "    <tr>\n",
       "      <th>CIGNA SALUD ISAPRE S.A</th>\n",
       "      <td>44</td>\n",
       "      <td>33</td>\n",
       "      <td>42.86</td>\n",
       "    </tr>\n",
       "    <tr>\n",
       "      <th>COLMENA GOLDEN CROSS S.A.</th>\n",
       "      <td>502</td>\n",
       "      <td>269</td>\n",
       "      <td>34.89</td>\n",
       "    </tr>\n",
       "    <tr>\n",
       "      <th>MAS VIDA S.A.</th>\n",
       "      <td>326</td>\n",
       "      <td>172</td>\n",
       "      <td>34.54</td>\n",
       "    </tr>\n",
       "    <tr>\n",
       "      <th>ING SALUD ( EX CRUZ BLANCA S.A)</th>\n",
       "      <td>276</td>\n",
       "      <td>123</td>\n",
       "      <td>30.83</td>\n",
       "    </tr>\n",
       "    <tr>\n",
       "      <th>JEAFOSALE</th>\n",
       "      <td>84</td>\n",
       "      <td>36</td>\n",
       "      <td>30.00</td>\n",
       "    </tr>\n",
       "    <tr>\n",
       "      <th>AT. PARTICULAR</th>\n",
       "      <td>505</td>\n",
       "      <td>212</td>\n",
       "      <td>29.57</td>\n",
       "    </tr>\n",
       "    <tr>\n",
       "      <th>ISAPRE BANMEDICA S.A.</th>\n",
       "      <td>304</td>\n",
       "      <td>121</td>\n",
       "      <td>28.47</td>\n",
       "    </tr>\n",
       "    <tr>\n",
       "      <th>CONSALUD S.A.</th>\n",
       "      <td>415</td>\n",
       "      <td>148</td>\n",
       "      <td>26.29</td>\n",
       "    </tr>\n",
       "    <tr>\n",
       "      <th>NO ESPECIFICADO</th>\n",
       "      <td>3863</td>\n",
       "      <td>1316</td>\n",
       "      <td>25.41</td>\n",
       "    </tr>\n",
       "    <tr>\n",
       "      <th>VIDA TRES S.A.</th>\n",
       "      <td>49</td>\n",
       "      <td>14</td>\n",
       "      <td>22.22</td>\n",
       "    </tr>\n",
       "    <tr>\n",
       "      <th>DIPRECA</th>\n",
       "      <td>1666</td>\n",
       "      <td>409</td>\n",
       "      <td>19.71</td>\n",
       "    </tr>\n",
       "    <tr>\n",
       "      <th>CAPREDENA</th>\n",
       "      <td>289</td>\n",
       "      <td>68</td>\n",
       "      <td>19.05</td>\n",
       "    </tr>\n",
       "    <tr>\n",
       "      <th>FONASA A</th>\n",
       "      <td>198928</td>\n",
       "      <td>45965</td>\n",
       "      <td>18.77</td>\n",
       "    </tr>\n",
       "    <tr>\n",
       "      <th>FONASA C</th>\n",
       "      <td>81485</td>\n",
       "      <td>17618</td>\n",
       "      <td>17.78</td>\n",
       "    </tr>\n",
       "    <tr>\n",
       "      <th>FONASA D</th>\n",
       "      <td>96414</td>\n",
       "      <td>20130</td>\n",
       "      <td>17.27</td>\n",
       "    </tr>\n",
       "    <tr>\n",
       "      <th>FONASA B</th>\n",
       "      <td>478123</td>\n",
       "      <td>98552</td>\n",
       "      <td>17.09</td>\n",
       "    </tr>\n",
       "    <tr>\n",
       "      <th>FERROSALUD S.A.</th>\n",
       "      <td>76</td>\n",
       "      <td>15</td>\n",
       "      <td>16.48</td>\n",
       "    </tr>\n",
       "    <tr>\n",
       "      <th>F.A.S.T BANCO DEL ESTADO</th>\n",
       "      <td>12</td>\n",
       "      <td>1</td>\n",
       "      <td>7.69</td>\n",
       "    </tr>\n",
       "  </tbody>\n",
       "</table>\n",
       "</div>"
      ],
      "text/plain": [
       "nsp                                   0      1   Tasa\n",
       "prevision                                            \n",
       "CIGNA SALUD ISAPRE S.A               44     33  42.86\n",
       "COLMENA GOLDEN CROSS S.A.           502    269  34.89\n",
       "MAS VIDA S.A.                       326    172  34.54\n",
       "ING SALUD ( EX CRUZ BLANCA S.A)     276    123  30.83\n",
       "JEAFOSALE                            84     36  30.00\n",
       "AT. PARTICULAR                      505    212  29.57\n",
       "ISAPRE BANMEDICA S.A.               304    121  28.47\n",
       "CONSALUD S.A.                       415    148  26.29\n",
       "NO ESPECIFICADO                    3863   1316  25.41\n",
       "VIDA TRES S.A.                       49     14  22.22\n",
       "DIPRECA                            1666    409  19.71\n",
       "CAPREDENA                           289     68  19.05\n",
       "FONASA A                         198928  45965  18.77\n",
       "FONASA C                          81485  17618  17.78\n",
       "FONASA D                          96414  20130  17.27\n",
       "FONASA B                         478123  98552  17.09\n",
       "FERROSALUD S.A.                      76     15  16.48\n",
       "F.A.S.T BANCO DEL ESTADO             12      1   7.69"
      ]
     },
     "execution_count": 83,
     "metadata": {},
     "output_type": "execute_result"
    }
   ],
   "source": [
    "tasa_prev = CategoryAnalyzer(data , \"prevision\" , \"nsp\")\n",
    "tasa_prev"
   ]
  },
  {
   "cell_type": "markdown",
   "id": "f513cf20-387c-4b68-b2fa-27a770d821ef",
   "metadata": {},
   "source": [
    "Notamos que hay 5 previsiones que tienen __NaN__ las cuales obviamente corresponden a las 4 restantes, aparte de FONASA , y son aquellas que tienen muy pocos registros (menos de 5) como se vio arriba, por lo que debemos eliminarlas"
   ]
  },
  {
   "cell_type": "code",
   "execution_count": 84,
   "id": "df42e896-10a2-4106-b093-ee3f284bb20d",
   "metadata": {},
   "outputs": [],
   "source": [
    "eliminar_prev = [\"CHUQUICAMATA LTDA\" , \"CRUZ DEL NORTE LTDA.\" , \"NO ESPECIFICADO A\" , \"RIO BLANCO LTDA.\" ]"
   ]
  },
  {
   "cell_type": "code",
   "execution_count": 85,
   "id": "ffef16af-8692-4985-b159-139c97e464fb",
   "metadata": {},
   "outputs": [],
   "source": [
    "tasa_prev.dropna(inplace = True)"
   ]
  },
  {
   "cell_type": "code",
   "execution_count": 86,
   "id": "b42bbe50-76ed-4ecd-8917-a7a33b40fbc9",
   "metadata": {},
   "outputs": [
    {
     "data": {
      "text/html": [
       "<div>\n",
       "<style scoped>\n",
       "    .dataframe tbody tr th:only-of-type {\n",
       "        vertical-align: middle;\n",
       "    }\n",
       "\n",
       "    .dataframe tbody tr th {\n",
       "        vertical-align: top;\n",
       "    }\n",
       "\n",
       "    .dataframe thead th {\n",
       "        text-align: right;\n",
       "    }\n",
       "</style>\n",
       "<table border=\"1\" class=\"dataframe\">\n",
       "  <thead>\n",
       "    <tr style=\"text-align: right;\">\n",
       "      <th>nsp</th>\n",
       "      <th>0</th>\n",
       "      <th>1</th>\n",
       "      <th>Tasa</th>\n",
       "    </tr>\n",
       "    <tr>\n",
       "      <th>prevision</th>\n",
       "      <th></th>\n",
       "      <th></th>\n",
       "      <th></th>\n",
       "    </tr>\n",
       "  </thead>\n",
       "  <tbody>\n",
       "    <tr>\n",
       "      <th>CIGNA SALUD ISAPRE S.A</th>\n",
       "      <td>44</td>\n",
       "      <td>33</td>\n",
       "      <td>42.86</td>\n",
       "    </tr>\n",
       "    <tr>\n",
       "      <th>COLMENA GOLDEN CROSS S.A.</th>\n",
       "      <td>502</td>\n",
       "      <td>269</td>\n",
       "      <td>34.89</td>\n",
       "    </tr>\n",
       "    <tr>\n",
       "      <th>MAS VIDA S.A.</th>\n",
       "      <td>326</td>\n",
       "      <td>172</td>\n",
       "      <td>34.54</td>\n",
       "    </tr>\n",
       "    <tr>\n",
       "      <th>ING SALUD ( EX CRUZ BLANCA S.A)</th>\n",
       "      <td>276</td>\n",
       "      <td>123</td>\n",
       "      <td>30.83</td>\n",
       "    </tr>\n",
       "    <tr>\n",
       "      <th>JEAFOSALE</th>\n",
       "      <td>84</td>\n",
       "      <td>36</td>\n",
       "      <td>30.00</td>\n",
       "    </tr>\n",
       "    <tr>\n",
       "      <th>AT. PARTICULAR</th>\n",
       "      <td>505</td>\n",
       "      <td>212</td>\n",
       "      <td>29.57</td>\n",
       "    </tr>\n",
       "    <tr>\n",
       "      <th>ISAPRE BANMEDICA S.A.</th>\n",
       "      <td>304</td>\n",
       "      <td>121</td>\n",
       "      <td>28.47</td>\n",
       "    </tr>\n",
       "    <tr>\n",
       "      <th>CONSALUD S.A.</th>\n",
       "      <td>415</td>\n",
       "      <td>148</td>\n",
       "      <td>26.29</td>\n",
       "    </tr>\n",
       "    <tr>\n",
       "      <th>NO ESPECIFICADO</th>\n",
       "      <td>3863</td>\n",
       "      <td>1316</td>\n",
       "      <td>25.41</td>\n",
       "    </tr>\n",
       "    <tr>\n",
       "      <th>VIDA TRES S.A.</th>\n",
       "      <td>49</td>\n",
       "      <td>14</td>\n",
       "      <td>22.22</td>\n",
       "    </tr>\n",
       "    <tr>\n",
       "      <th>DIPRECA</th>\n",
       "      <td>1666</td>\n",
       "      <td>409</td>\n",
       "      <td>19.71</td>\n",
       "    </tr>\n",
       "    <tr>\n",
       "      <th>CAPREDENA</th>\n",
       "      <td>289</td>\n",
       "      <td>68</td>\n",
       "      <td>19.05</td>\n",
       "    </tr>\n",
       "    <tr>\n",
       "      <th>FONASA A</th>\n",
       "      <td>198928</td>\n",
       "      <td>45965</td>\n",
       "      <td>18.77</td>\n",
       "    </tr>\n",
       "    <tr>\n",
       "      <th>FONASA C</th>\n",
       "      <td>81485</td>\n",
       "      <td>17618</td>\n",
       "      <td>17.78</td>\n",
       "    </tr>\n",
       "    <tr>\n",
       "      <th>FONASA D</th>\n",
       "      <td>96414</td>\n",
       "      <td>20130</td>\n",
       "      <td>17.27</td>\n",
       "    </tr>\n",
       "    <tr>\n",
       "      <th>FONASA B</th>\n",
       "      <td>478123</td>\n",
       "      <td>98552</td>\n",
       "      <td>17.09</td>\n",
       "    </tr>\n",
       "    <tr>\n",
       "      <th>FERROSALUD S.A.</th>\n",
       "      <td>76</td>\n",
       "      <td>15</td>\n",
       "      <td>16.48</td>\n",
       "    </tr>\n",
       "    <tr>\n",
       "      <th>F.A.S.T BANCO DEL ESTADO</th>\n",
       "      <td>12</td>\n",
       "      <td>1</td>\n",
       "      <td>7.69</td>\n",
       "    </tr>\n",
       "  </tbody>\n",
       "</table>\n",
       "</div>"
      ],
      "text/plain": [
       "nsp                                   0      1   Tasa\n",
       "prevision                                            \n",
       "CIGNA SALUD ISAPRE S.A               44     33  42.86\n",
       "COLMENA GOLDEN CROSS S.A.           502    269  34.89\n",
       "MAS VIDA S.A.                       326    172  34.54\n",
       "ING SALUD ( EX CRUZ BLANCA S.A)     276    123  30.83\n",
       "JEAFOSALE                            84     36  30.00\n",
       "AT. PARTICULAR                      505    212  29.57\n",
       "ISAPRE BANMEDICA S.A.               304    121  28.47\n",
       "CONSALUD S.A.                       415    148  26.29\n",
       "NO ESPECIFICADO                    3863   1316  25.41\n",
       "VIDA TRES S.A.                       49     14  22.22\n",
       "DIPRECA                            1666    409  19.71\n",
       "CAPREDENA                           289     68  19.05\n",
       "FONASA A                         198928  45965  18.77\n",
       "FONASA C                          81485  17618  17.78\n",
       "FONASA D                          96414  20130  17.27\n",
       "FONASA B                         478123  98552  17.09\n",
       "FERROSALUD S.A.                      76     15  16.48\n",
       "F.A.S.T BANCO DEL ESTADO             12      1   7.69"
      ]
     },
     "execution_count": 86,
     "metadata": {},
     "output_type": "execute_result"
    }
   ],
   "source": [
    "tasa_prev"
   ]
  },
  {
   "cell_type": "markdown",
   "id": "f31dfb64-e6bb-4629-b83d-fd433c928fbf",
   "metadata": {},
   "source": [
    "Como variable adicional se van a crear categorías más macro, es decir, vamos a agrupar los datos según pertenencia a sistema de salud público, privado , fuerzas armadas , particular o no especificado. Para lo anterior, primero especificamos los conjuntos respectivos:"
   ]
  },
  {
   "cell_type": "code",
   "execution_count": 87,
   "id": "d70ec00a-fe0d-49c5-955f-7cca691badf4",
   "metadata": {},
   "outputs": [],
   "source": [
    "prev_dict = {\n",
    "    'CIGNA SALUD ISAPRE S.A' : \"Isapre\" , \n",
    "    'COLMENA GOLDEN CROSS S.A.' : \"Isapre\", \n",
    "    'CONSALUD S.A.' : \"Isapre\" , \n",
    "    'F.A.S.T BANCO DEL ESTADO' : \"Isapre\", \n",
    "    'FERROSALUD S.A.' : \"Isapre\" , \n",
    "    'ING SALUD ( EX CRUZ BLANCA S.A)' : \"Isapre\",\n",
    "    'ISAPRE BANMEDICA S.A.' : \"Isapre\" ,\n",
    "    'MAS VIDA S.A.' : \"Isapre\" , \n",
    "    'VIDA TRES S.A.' : \"Isapre\" , \n",
    "    \"CAPREDENA\" : \"FFAA\" , \n",
    "    'DIPRECA' : \"FFAA\",\n",
    "    'JEAFOSALE' : \"FFAA\",\n",
    "    'FONASA A' : \"Fonasa\", \n",
    "    'FONASA B' : \"Fonasa\",\n",
    "    'FONASA C' : \"Fonasa\", \n",
    "    'FONASA D' : \"Fonasa\" ,\n",
    "    \"NO ESPECIFICADO\" : \"No Espec\" ,\n",
    "    \"AT. PARTICULAR\" : \"Particular\"\n",
    "}"
   ]
  },
  {
   "cell_type": "markdown",
   "id": "44e76551-3dfd-4d9f-962d-609ed8a3a9b1",
   "metadata": {},
   "source": [
    "Creamos la nueva variable:"
   ]
  },
  {
   "cell_type": "code",
   "execution_count": 88,
   "id": "6848ab01-88f3-49ff-a727-d2ea50116f6d",
   "metadata": {},
   "outputs": [],
   "source": [
    "prev2 = []\n",
    "for x in data.prevision:\n",
    "    try:\n",
    "        prev2.append(prev_dict[x])\n",
    "    except:\n",
    "        prev2.append(\"Eliminar\")\n",
    "data[\"prevision2\"] = prev2"
   ]
  },
  {
   "cell_type": "code",
   "execution_count": 89,
   "id": "e42c8c96-2756-432c-a78b-756aae41d669",
   "metadata": {},
   "outputs": [],
   "source": [
    "data = data[data[\"prevision2\"] != \"Eliminar\"]"
   ]
  },
  {
   "cell_type": "markdown",
   "id": "4e243ae8-c30c-4cd7-89ad-8c0fdeb9e1df",
   "metadata": {},
   "source": [
    "Repetimos el análisis, esta vez viendo el resultado agrupado:"
   ]
  },
  {
   "cell_type": "code",
   "execution_count": 90,
   "id": "021b248a-ce31-4889-9b6b-56e90457f1f6",
   "metadata": {},
   "outputs": [
    {
     "data": {
      "text/html": [
       "<div>\n",
       "<style scoped>\n",
       "    .dataframe tbody tr th:only-of-type {\n",
       "        vertical-align: middle;\n",
       "    }\n",
       "\n",
       "    .dataframe tbody tr th {\n",
       "        vertical-align: top;\n",
       "    }\n",
       "\n",
       "    .dataframe thead th {\n",
       "        text-align: right;\n",
       "    }\n",
       "</style>\n",
       "<table border=\"1\" class=\"dataframe\">\n",
       "  <thead>\n",
       "    <tr style=\"text-align: right;\">\n",
       "      <th></th>\n",
       "      <th>id</th>\n",
       "      <th>fechanacimiento</th>\n",
       "      <th>sexo</th>\n",
       "      <th>prevision</th>\n",
       "      <th>especialidad</th>\n",
       "      <th>tipoatencion</th>\n",
       "      <th>fechareserva</th>\n",
       "      <th>fechahoracita</th>\n",
       "      <th>nsp</th>\n",
       "      <th>ag_proc_ot</th>\n",
       "      <th>prevision2</th>\n",
       "      <th>MesReserva</th>\n",
       "      <th>MesConsulta</th>\n",
       "      <th>DeltaDias</th>\n",
       "      <th>Days60</th>\n",
       "      <th>DaysGroup</th>\n",
       "      <th>TasaProcedimiento</th>\n",
       "      <th>TasaPrevision</th>\n",
       "      <th>TasaDays</th>\n",
       "    </tr>\n",
       "  </thead>\n",
       "  <tbody>\n",
       "    <tr>\n",
       "      <th>0</th>\n",
       "      <td>e1f568d43f199d828c9462e05c784c16</td>\n",
       "      <td>1965-05-18</td>\n",
       "      <td>f</td>\n",
       "      <td>FONASA C</td>\n",
       "      <td>GINECOLOGIA - AGENDA MEDICA</td>\n",
       "      <td>NUEVO</td>\n",
       "      <td>2018-11-12</td>\n",
       "      <td>2018-11-27 11:00:00</td>\n",
       "      <td>0</td>\n",
       "      <td>AGENDA</td>\n",
       "      <td>Fonasa</td>\n",
       "      <td>11</td>\n",
       "      <td>11</td>\n",
       "      <td>15</td>\n",
       "      <td>DaysNormal</td>\n",
       "      <td>G2</td>\n",
       "      <td>14.21</td>\n",
       "      <td>17.57</td>\n",
       "      <td>18.28</td>\n",
       "    </tr>\n",
       "    <tr>\n",
       "      <th>1</th>\n",
       "      <td>dbe9285fa3633f6baea7e382e3f120d0</td>\n",
       "      <td>1992-02-02</td>\n",
       "      <td>f</td>\n",
       "      <td>FONASA B</td>\n",
       "      <td>OBSTETRICIA - AGENDA MEDICA</td>\n",
       "      <td>CONTROL</td>\n",
       "      <td>2018-10-30</td>\n",
       "      <td>2018-11-13 10:30:00</td>\n",
       "      <td>1</td>\n",
       "      <td>AGENDA</td>\n",
       "      <td>Fonasa</td>\n",
       "      <td>10</td>\n",
       "      <td>11</td>\n",
       "      <td>14</td>\n",
       "      <td>DaysNormal</td>\n",
       "      <td>G2</td>\n",
       "      <td>14.21</td>\n",
       "      <td>17.57</td>\n",
       "      <td>18.28</td>\n",
       "    </tr>\n",
       "  </tbody>\n",
       "</table>\n",
       "</div>"
      ],
      "text/plain": [
       "                                 id fechanacimiento sexo prevision  \\\n",
       "0  e1f568d43f199d828c9462e05c784c16      1965-05-18    f  FONASA C   \n",
       "1  dbe9285fa3633f6baea7e382e3f120d0      1992-02-02    f  FONASA B   \n",
       "\n",
       "                  especialidad tipoatencion fechareserva       fechahoracita  \\\n",
       "0  GINECOLOGIA - AGENDA MEDICA        NUEVO   2018-11-12 2018-11-27 11:00:00   \n",
       "1  OBSTETRICIA - AGENDA MEDICA      CONTROL   2018-10-30 2018-11-13 10:30:00   \n",
       "\n",
       "   nsp ag_proc_ot prevision2  MesReserva  MesConsulta  DeltaDias      Days60  \\\n",
       "0    0     AGENDA     Fonasa          11           11         15  DaysNormal   \n",
       "1    1     AGENDA     Fonasa          10           11         14  DaysNormal   \n",
       "\n",
       "  DaysGroup  TasaProcedimiento  TasaPrevision  TasaDays  \n",
       "0        G2              14.21          17.57     18.28  \n",
       "1        G2              14.21          17.57     18.28  "
      ]
     },
     "execution_count": 90,
     "metadata": {},
     "output_type": "execute_result"
    }
   ],
   "source": [
    "data.head(2)"
   ]
  },
  {
   "cell_type": "code",
   "execution_count": 91,
   "id": "a034695b-6b0c-45bc-bd7d-8cfa8eb81492",
   "metadata": {},
   "outputs": [
    {
     "data": {
      "text/html": [
       "<div>\n",
       "<style scoped>\n",
       "    .dataframe tbody tr th:only-of-type {\n",
       "        vertical-align: middle;\n",
       "    }\n",
       "\n",
       "    .dataframe tbody tr th {\n",
       "        vertical-align: top;\n",
       "    }\n",
       "\n",
       "    .dataframe thead th {\n",
       "        text-align: right;\n",
       "    }\n",
       "</style>\n",
       "<table border=\"1\" class=\"dataframe\">\n",
       "  <thead>\n",
       "    <tr style=\"text-align: right;\">\n",
       "      <th>nsp</th>\n",
       "      <th>0</th>\n",
       "      <th>1</th>\n",
       "      <th>Tasa</th>\n",
       "    </tr>\n",
       "    <tr>\n",
       "      <th>prevision2</th>\n",
       "      <th></th>\n",
       "      <th></th>\n",
       "      <th></th>\n",
       "    </tr>\n",
       "  </thead>\n",
       "  <tbody>\n",
       "    <tr>\n",
       "      <th>Isapre</th>\n",
       "      <td>2004</td>\n",
       "      <td>896</td>\n",
       "      <td>30.90</td>\n",
       "    </tr>\n",
       "    <tr>\n",
       "      <th>Particular</th>\n",
       "      <td>505</td>\n",
       "      <td>212</td>\n",
       "      <td>29.57</td>\n",
       "    </tr>\n",
       "    <tr>\n",
       "      <th>No Espec</th>\n",
       "      <td>3863</td>\n",
       "      <td>1316</td>\n",
       "      <td>25.41</td>\n",
       "    </tr>\n",
       "    <tr>\n",
       "      <th>FFAA</th>\n",
       "      <td>2039</td>\n",
       "      <td>513</td>\n",
       "      <td>20.10</td>\n",
       "    </tr>\n",
       "    <tr>\n",
       "      <th>Fonasa</th>\n",
       "      <td>854950</td>\n",
       "      <td>182265</td>\n",
       "      <td>17.57</td>\n",
       "    </tr>\n",
       "  </tbody>\n",
       "</table>\n",
       "</div>"
      ],
      "text/plain": [
       "nsp              0       1   Tasa\n",
       "prevision2                       \n",
       "Isapre        2004     896  30.90\n",
       "Particular     505     212  29.57\n",
       "No Espec      3863    1316  25.41\n",
       "FFAA          2039     513  20.10\n",
       "Fonasa      854950  182265  17.57"
      ]
     },
     "execution_count": 91,
     "metadata": {},
     "output_type": "execute_result"
    }
   ],
   "source": [
    "tasa_prev_agreg = CategoryAnalyzer(data , \"prevision2\" , \"nsp\")\n",
    "tasa_prev_agreg"
   ]
  },
  {
   "cell_type": "markdown",
   "id": "065ee950-4c15-4a92-82d1-0c2b51cc1891",
   "metadata": {},
   "source": [
    "Por lo tanto en términos generales nos damos cuenta que la tasa de ausentismo en Isapre y Particular es un poco menos del doble que la atención en Fonasa. Esto podría deberse, tal vez, a que las personas con isapre tienen accesos más fáciles a atenciones de diferente tipo, a diferencia de aquellos en Fonasa que, como ya sabemos hay una gran lista de espera"
   ]
  },
  {
   "cell_type": "markdown",
   "id": "741d9538-7a83-435e-bb96-c77f7291d1e2",
   "metadata": {},
   "source": [
    "#### __Sección 1.2.4 : Fecha Reserva y Fecha Cita__"
   ]
  },
  {
   "cell_type": "markdown",
   "id": "7184f623-d865-4d8f-a7ae-c04a1cdbd511",
   "metadata": {},
   "source": [
    "Como vimos al comienzo del EDA, las variables de fecha ya están en formato __Timestamp__ por lo que es bastante fácil crear nuevas variables. Primero identificaremos los meses en los que se enmarcan ambas fechas y además identificaremos cuánto tiempo ocurre desde la fecha de Reserva hasta la Fecha de Consulta y analizaremos si hay algún efecto según la diferencia en días de ambos"
   ]
  },
  {
   "cell_type": "code",
   "execution_count": 92,
   "id": "57526b72-0ade-47e2-9053-78efcc9a5b48",
   "metadata": {},
   "outputs": [],
   "source": [
    "data[\"MesReserva\"] = [x.month for x in data.fechareserva]\n",
    "data[\"MesConsulta\"] = [x.month for x in data.fechahoracita]\n",
    "data[\"DeltaDias\"] = [x.days for x in (data[\"fechahoracita\"] - data[\"fechareserva\"])]"
   ]
  },
  {
   "cell_type": "markdown",
   "id": "ec890554-5fc3-455a-9627-bd19dfaffc3b",
   "metadata": {},
   "source": [
    "Comenzando con la __Diferencia de Días__ visualizamos la distribución de los datos con un __Histograma__"
   ]
  },
  {
   "cell_type": "code",
   "execution_count": 93,
   "id": "7a1919a0-6ec2-4a03-835e-d623ee833b08",
   "metadata": {},
   "outputs": [
    {
     "data": {
      "image/png": "[encoded data removed]",
      "text/plain": [
       "<Figure size 640x480 with 1 Axes>"
      ]
     },
     "metadata": {},
     "output_type": "display_data"
    }
   ],
   "source": [
    "data.DeltaDias.hist(bins = 50);"
   ]
  },
  {
   "cell_type": "markdown",
   "id": "f448b69b-be88-42e4-bf02-051deb595c47",
   "metadata": {},
   "source": [
    "Notamos la gran presencia de ciertos __Outliers__ o __Puntos Atípicos__ ya que hay una gran densidad de puntos entre 0 y 150, pero el gráfico se alarga hasta 400. Acotemos un poco los días. Crearemos algunas categorías base. Si establecemos como punto de obserrvación __60 días__ el histograma se ve de la siguiente forma: "
   ]
  },
  {
   "cell_type": "code",
   "execution_count": 94,
   "id": "2d3fc5fe-960c-4f8f-b42c-fb2bbe6fc35b",
   "metadata": {},
   "outputs": [
    {
     "data": {
      "image/png": "[encoded data removed]",
      "text/plain": [
       "<Figure size 640x480 with 1 Axes>"
      ]
     },
     "metadata": {},
     "output_type": "display_data"
    }
   ],
   "source": [
    "data[data[\"DeltaDias\"] <= 60].DeltaDias.hist(bins = 50);"
   ]
  },
  {
   "cell_type": "markdown",
   "id": "f70a4a52-3c53-4e8c-ad62-12acb2da161a",
   "metadata": {},
   "source": [
    "Por ende, para el análisis divideremos los datos en dos. Una parte son todos aquellos en los que la diferencia en días es de 60 o menos y otro de 60 o más."
   ]
  },
  {
   "cell_type": "code",
   "execution_count": 95,
   "id": "6f4dced1-11d0-4aab-9f77-285b5a8dc687",
   "metadata": {},
   "outputs": [],
   "source": [
    "data[\"Days60\"] = [\"DaysNormal\" if x <= 60 else \"DaysExceso\" for x in data.DeltaDias]"
   ]
  },
  {
   "cell_type": "code",
   "execution_count": 96,
   "id": "27533237-4cb2-4159-ae85-1ff2c4ecdfe9",
   "metadata": {},
   "outputs": [
    {
     "data": {
      "text/plain": [
       "Days60\n",
       "DaysNormal    995157\n",
       "DaysExceso     53406\n",
       "dtype: int64"
      ]
     },
     "execution_count": 96,
     "metadata": {},
     "output_type": "execute_result"
    }
   ],
   "source": [
    "data.value_counts(\"Days60\")"
   ]
  },
  {
   "cell_type": "markdown",
   "id": "fd406050-4c84-4950-8d21-9819356b74cd",
   "metadata": {},
   "source": [
    "Procedemos a analizar el primer grupo, aquellos pacientes en los que la diferencia entre la fecha de la reserva y la fecha de la cita es menor o igual a 60"
   ]
  },
  {
   "cell_type": "code",
   "execution_count": null,
   "id": "f6dfffe8-3f38-4844-8967-359734caf068",
   "metadata": {},
   "outputs": [
    {
     "data": {
      "image/png": "[encoded data removed]",
      "text/plain": [
       "<Figure size 1200x500 with 1 Axes>"
      ]
     },
     "metadata": {},
     "output_type": "display_data"
    }
   ],
   "source": [
    "plt.figure(figsize = (12,5))\n",
    "plt.title(\"Histograma Para El Grupo con Atrasos Menor a 60\")\n",
    "sns.histplot(data = data[data[\"Days60\"] == \"DaysNormal\"], x='DeltaDias' , bins =50 , hue = \"nsp\" , multiple = \"stack\");"
   ]
  },
  {
   "cell_type": "markdown",
   "id": "77a516dc-d217-4a4f-a630-7791c9328f1a",
   "metadata": {},
   "source": [
    "Notamos que la mayor tasa de ausentismos, por lo menos visualmente, se presenta cuando la Fecha de Reserva y la Fecha de Consulta es la misma, es decir, el mismo día. Es más, la mayoría de los ausentismos se concentran cuando la diferencia es en 10 días. Por lo tanto vamos a reclasificar a los pacientes y los agruparemos según diferencia de días en grupos de 10 en 10:"
   ]
  },
  {
   "cell_type": "code",
   "execution_count": null,
   "id": "258952f3-0e7a-4bf8-b456-6dabd1d18c04",
   "metadata": {},
   "outputs": [],
   "source": [
    "data_60_norm = data[data[\"Days60\"] == \"DaysNormal\"]\n",
    "data_60_excess = data[data[\"Days60\"] != \"DaysNormal\"]"
   ]
  },
  {
   "cell_type": "markdown",
   "id": "9d6820f0-a4c0-448e-8aca-73b069415674",
   "metadata": {},
   "source": [
    "# __REVISAR COMO HACER BINNING DE UNA FORMA MENOS MANUAL__"
   ]
  },
  {
   "cell_type": "code",
   "execution_count": null,
   "id": "dc706e81-eb19-4920-bd68-22aa175c6e84",
   "metadata": {},
   "outputs": [
    {
     "name": "stderr",
     "output_type": "stream",
     "text": [
      "C:\\Users\\Marcelojtc\\AppData\\Local\\Temp\\ipykernel_4364\\1607556005.py:15: SettingWithCopyWarning: \n",
      "A value is trying to be set on a copy of a slice from a DataFrame.\n",
      "Try using .loc[row_indexer,col_indexer] = value instead\n",
      "\n",
      "See the caveats in the documentation: https://pandas.pydata.org/pandas-docs/stable/user_guide/indexing.html#returning-a-view-versus-a-copy\n",
      "  data_60_norm[\"DaysGroup\"] = days_group\n"
     ]
    }
   ],
   "source": [
    "days_group = []\n",
    "for x in data_60_norm.DeltaDias:\n",
    "    if x <= 10 :\n",
    "        days_group.append(\"G1\")\n",
    "    elif 10 < x <= 20:\n",
    "        days_group.append(\"G2\")\n",
    "    elif 20 < x <= 30:\n",
    "        days_group.append(\"G3\")\n",
    "    elif 30 < x <= 40:\n",
    "        days_group.append(\"G4\")\n",
    "    elif 40 < x <= 50:\n",
    "        days_group.append(\"G5\")\n",
    "    elif 50 < x <= 60:\n",
    "        days_group.append(\"G6\")\n",
    "data_60_norm[\"DaysGroup\"] = days_group"
   ]
  },
  {
   "cell_type": "code",
   "execution_count": null,
   "id": "50804de9-f870-416f-9af6-842973a75be3",
   "metadata": {},
   "outputs": [
    {
     "data": {
      "text/plain": [
       "DaysGroup\n",
       "G1    510002\n",
       "G2    203433\n",
       "G3    143581\n",
       "G4     73505\n",
       "G5     40500\n",
       "G6     24136\n",
       "dtype: int64"
      ]
     },
     "execution_count": 100,
     "metadata": {},
     "output_type": "execute_result"
    }
   ],
   "source": [
    "data_60_norm.value_counts(\"DaysGroup\")"
   ]
  },
  {
   "cell_type": "code",
   "execution_count": null,
   "id": "1ee93ec0-b0df-423e-a1b3-8ae1038e4839",
   "metadata": {},
   "outputs": [
    {
     "data": {
      "text/html": [
       "<div>\n",
       "<style scoped>\n",
       "    .dataframe tbody tr th:only-of-type {\n",
       "        vertical-align: middle;\n",
       "    }\n",
       "\n",
       "    .dataframe tbody tr th {\n",
       "        vertical-align: top;\n",
       "    }\n",
       "\n",
       "    .dataframe thead th {\n",
       "        text-align: right;\n",
       "    }\n",
       "</style>\n",
       "<table border=\"1\" class=\"dataframe\">\n",
       "  <thead>\n",
       "    <tr style=\"text-align: right;\">\n",
       "      <th>nsp</th>\n",
       "      <th>0</th>\n",
       "      <th>1</th>\n",
       "      <th>Tasa</th>\n",
       "    </tr>\n",
       "    <tr>\n",
       "      <th>DaysGroup</th>\n",
       "      <th></th>\n",
       "      <th></th>\n",
       "      <th></th>\n",
       "    </tr>\n",
       "  </thead>\n",
       "  <tbody>\n",
       "    <tr>\n",
       "      <th>G5</th>\n",
       "      <td>32281</td>\n",
       "      <td>8219</td>\n",
       "      <td>20.29</td>\n",
       "    </tr>\n",
       "    <tr>\n",
       "      <th>G6</th>\n",
       "      <td>19317</td>\n",
       "      <td>4819</td>\n",
       "      <td>19.97</td>\n",
       "    </tr>\n",
       "    <tr>\n",
       "      <th>G4</th>\n",
       "      <td>59629</td>\n",
       "      <td>13876</td>\n",
       "      <td>18.88</td>\n",
       "    </tr>\n",
       "    <tr>\n",
       "      <th>G3</th>\n",
       "      <td>116709</td>\n",
       "      <td>26872</td>\n",
       "      <td>18.72</td>\n",
       "    </tr>\n",
       "    <tr>\n",
       "      <th>G2</th>\n",
       "      <td>166236</td>\n",
       "      <td>37197</td>\n",
       "      <td>18.28</td>\n",
       "    </tr>\n",
       "    <tr>\n",
       "      <th>G1</th>\n",
       "      <td>428507</td>\n",
       "      <td>81495</td>\n",
       "      <td>15.98</td>\n",
       "    </tr>\n",
       "  </tbody>\n",
       "</table>\n",
       "</div>"
      ],
      "text/plain": [
       "nsp             0      1   Tasa\n",
       "DaysGroup                      \n",
       "G5          32281   8219  20.29\n",
       "G6          19317   4819  19.97\n",
       "G4          59629  13876  18.88\n",
       "G3         116709  26872  18.72\n",
       "G2         166236  37197  18.28\n",
       "G1         428507  81495  15.98"
      ]
     },
     "execution_count": 101,
     "metadata": {},
     "output_type": "execute_result"
    }
   ],
   "source": [
    "tasa_days_group60 = CategoryAnalyzer(data_60_norm , \"DaysGroup\" , \"nsp\")\n",
    "tasa_days_group60"
   ]
  },
  {
   "cell_type": "markdown",
   "id": "1d935d3a-906a-4877-84e5-4e46c768d742",
   "metadata": {},
   "source": [
    "Repetimos el mismo proceso para aquellos pacientes con diferencia de días mayor a 60"
   ]
  },
  {
   "cell_type": "code",
   "execution_count": null,
   "id": "7697e260-9a81-4a05-81f4-b431fd467b6f",
   "metadata": {},
   "outputs": [
    {
     "data": {
      "image/png": "[encoded data removed]",
      "text/plain": [
       "<Figure size 1200x500 with 1 Axes>"
      ]
     },
     "metadata": {},
     "output_type": "display_data"
    }
   ],
   "source": [
    "plt.figure(figsize = (12,5))\n",
    "plt.title(\"Histograma Para El Grupo con Atrasos Menor a 60\")\n",
    "sns.histplot(data = data[data[\"Days60\"] == \"DaysExceso\"], x='DeltaDias' , bins =50 , hue = \"nsp\" , multiple = \"stack\");"
   ]
  },
  {
   "cell_type": "markdown",
   "id": "7ab4e757-3428-4add-bbbc-bfe7479ea16f",
   "metadata": {},
   "source": [
    "En este caso, solo haremos tres divisiones:  \n",
    "* Grupo Mayor a 60 y Menor a 100\n",
    "* Grupo Mayor a 100 y Menor a 150\n",
    "* Grupo Mayor a 150"
   ]
  },
  {
   "cell_type": "code",
   "execution_count": 110,
   "id": "4ed13e75-872c-4b71-8b21-19f5a7a5c027",
   "metadata": {},
   "outputs": [],
   "source": [
    "days_group = []\n",
    "for x in data_60_excess.DeltaDias:\n",
    "    if 60 < x <= 100 :\n",
    "        days_group.append(\"G7\")\n",
    "    elif 100 < x <= 150:\n",
    "        days_group.append(\"G8\")\n",
    "    else:\n",
    "        days_group.append(\"G9\")\n",
    "data_60_excess[\"DaysGroup\"] = days_group"
   ]
  },
  {
   "cell_type": "code",
   "execution_count": 111,
   "id": "c6220da2-6e2e-46c3-81eb-6d75e6e6cbd5",
   "metadata": {},
   "outputs": [
    {
     "data": {
      "text/html": [
       "<div>\n",
       "<style scoped>\n",
       "    .dataframe tbody tr th:only-of-type {\n",
       "        vertical-align: middle;\n",
       "    }\n",
       "\n",
       "    .dataframe tbody tr th {\n",
       "        vertical-align: top;\n",
       "    }\n",
       "\n",
       "    .dataframe thead th {\n",
       "        text-align: right;\n",
       "    }\n",
       "</style>\n",
       "<table border=\"1\" class=\"dataframe\">\n",
       "  <thead>\n",
       "    <tr style=\"text-align: right;\">\n",
       "      <th>nsp</th>\n",
       "      <th>0</th>\n",
       "      <th>1</th>\n",
       "      <th>Tasa</th>\n",
       "    </tr>\n",
       "    <tr>\n",
       "      <th>DaysGroup</th>\n",
       "      <th></th>\n",
       "      <th></th>\n",
       "      <th></th>\n",
       "    </tr>\n",
       "  </thead>\n",
       "  <tbody>\n",
       "    <tr>\n",
       "      <th>G9</th>\n",
       "      <td>1850</td>\n",
       "      <td>617</td>\n",
       "      <td>25.01</td>\n",
       "    </tr>\n",
       "    <tr>\n",
       "      <th>G8</th>\n",
       "      <td>7081</td>\n",
       "      <td>2282</td>\n",
       "      <td>24.37</td>\n",
       "    </tr>\n",
       "    <tr>\n",
       "      <th>G7</th>\n",
       "      <td>31751</td>\n",
       "      <td>9825</td>\n",
       "      <td>23.63</td>\n",
       "    </tr>\n",
       "  </tbody>\n",
       "</table>\n",
       "</div>"
      ],
      "text/plain": [
       "nsp            0     1   Tasa\n",
       "DaysGroup                    \n",
       "G9          1850   617  25.01\n",
       "G8          7081  2282  24.37\n",
       "G7         31751  9825  23.63"
      ]
     },
     "execution_count": 111,
     "metadata": {},
     "output_type": "execute_result"
    }
   ],
   "source": [
    "tasa_days_group60ex = CategoryAnalyzer(data_60_excess , \"DaysGroup\" , \"nsp\")\n",
    "tasa_days_group60ex"
   ]
  },
  {
   "cell_type": "markdown",
   "id": "071ac2b7-621e-40ef-9e17-752d555220b9",
   "metadata": {},
   "source": [
    "Si concatenamos todos los resultados obtenemos lo siguiente:"
   ]
  },
  {
   "cell_type": "code",
   "execution_count": 112,
   "id": "2b8b4fff-97e2-4f84-b89e-94d8966ea2ae",
   "metadata": {},
   "outputs": [
    {
     "data": {
      "text/html": [
       "<div>\n",
       "<style scoped>\n",
       "    .dataframe tbody tr th:only-of-type {\n",
       "        vertical-align: middle;\n",
       "    }\n",
       "\n",
       "    .dataframe tbody tr th {\n",
       "        vertical-align: top;\n",
       "    }\n",
       "\n",
       "    .dataframe thead th {\n",
       "        text-align: right;\n",
       "    }\n",
       "</style>\n",
       "<table border=\"1\" class=\"dataframe\">\n",
       "  <thead>\n",
       "    <tr style=\"text-align: right;\">\n",
       "      <th>nsp</th>\n",
       "      <th>0</th>\n",
       "      <th>1</th>\n",
       "      <th>Tasa</th>\n",
       "    </tr>\n",
       "    <tr>\n",
       "      <th>DaysGroup</th>\n",
       "      <th></th>\n",
       "      <th></th>\n",
       "      <th></th>\n",
       "    </tr>\n",
       "  </thead>\n",
       "  <tbody>\n",
       "    <tr>\n",
       "      <th>G9</th>\n",
       "      <td>1850</td>\n",
       "      <td>617</td>\n",
       "      <td>25.01</td>\n",
       "    </tr>\n",
       "    <tr>\n",
       "      <th>G8</th>\n",
       "      <td>7081</td>\n",
       "      <td>2282</td>\n",
       "      <td>24.37</td>\n",
       "    </tr>\n",
       "    <tr>\n",
       "      <th>G7</th>\n",
       "      <td>31751</td>\n",
       "      <td>9825</td>\n",
       "      <td>23.63</td>\n",
       "    </tr>\n",
       "    <tr>\n",
       "      <th>G5</th>\n",
       "      <td>32281</td>\n",
       "      <td>8219</td>\n",
       "      <td>20.29</td>\n",
       "    </tr>\n",
       "    <tr>\n",
       "      <th>G6</th>\n",
       "      <td>19317</td>\n",
       "      <td>4819</td>\n",
       "      <td>19.97</td>\n",
       "    </tr>\n",
       "    <tr>\n",
       "      <th>G4</th>\n",
       "      <td>59629</td>\n",
       "      <td>13876</td>\n",
       "      <td>18.88</td>\n",
       "    </tr>\n",
       "    <tr>\n",
       "      <th>G3</th>\n",
       "      <td>116709</td>\n",
       "      <td>26872</td>\n",
       "      <td>18.72</td>\n",
       "    </tr>\n",
       "    <tr>\n",
       "      <th>G2</th>\n",
       "      <td>166236</td>\n",
       "      <td>37197</td>\n",
       "      <td>18.28</td>\n",
       "    </tr>\n",
       "    <tr>\n",
       "      <th>G1</th>\n",
       "      <td>428507</td>\n",
       "      <td>81495</td>\n",
       "      <td>15.98</td>\n",
       "    </tr>\n",
       "  </tbody>\n",
       "</table>\n",
       "</div>"
      ],
      "text/plain": [
       "nsp             0      1   Tasa\n",
       "DaysGroup                      \n",
       "G9           1850    617  25.01\n",
       "G8           7081   2282  24.37\n",
       "G7          31751   9825  23.63\n",
       "G5          32281   8219  20.29\n",
       "G6          19317   4819  19.97\n",
       "G4          59629  13876  18.88\n",
       "G3         116709  26872  18.72\n",
       "G2         166236  37197  18.28\n",
       "G1         428507  81495  15.98"
      ]
     },
     "execution_count": 112,
     "metadata": {},
     "output_type": "execute_result"
    }
   ],
   "source": [
    "tasas_days = pd.concat([tasa_days_group60 , tasa_days_group60ex]).sort_values(by = \"Tasa\" , ascending = False)\n",
    "tasas_days"
   ]
  },
  {
   "cell_type": "code",
   "execution_count": 113,
   "id": "b003cc7d-93fa-4a45-9ab9-b8deefaee1e0",
   "metadata": {},
   "outputs": [],
   "source": [
    "orig_data = data.copy()"
   ]
  },
  {
   "cell_type": "markdown",
   "id": "36d944f3-5bd6-4388-8343-91a769f30edc",
   "metadata": {},
   "source": [
    "Podemos entonces concluir que hay una mayor tasa de ausentismo en aquellos pacientes que son agendados con más de 100 días desde la reserva. Pueden existir diversos factores, algo tan simple como por ejemplo, simplemente se les olvidó o en un caso más complejo que el paciente falleció por ejemplo"
   ]
  },
  {
   "cell_type": "code",
   "execution_count": 114,
   "id": "7d6d2773-c534-484f-becc-062bf24b7363",
   "metadata": {},
   "outputs": [],
   "source": [
    "data = pd.concat([data_60_norm , data_60_excess])"
   ]
  },
  {
   "cell_type": "code",
   "execution_count": 115,
   "id": "cb413b20-5dc0-4ecd-abd8-ae6a3ae79f7d",
   "metadata": {},
   "outputs": [
    {
     "data": {
      "text/html": [
       "<div>\n",
       "<style scoped>\n",
       "    .dataframe tbody tr th:only-of-type {\n",
       "        vertical-align: middle;\n",
       "    }\n",
       "\n",
       "    .dataframe tbody tr th {\n",
       "        vertical-align: top;\n",
       "    }\n",
       "\n",
       "    .dataframe thead th {\n",
       "        text-align: right;\n",
       "    }\n",
       "</style>\n",
       "<table border=\"1\" class=\"dataframe\">\n",
       "  <thead>\n",
       "    <tr style=\"text-align: right;\">\n",
       "      <th></th>\n",
       "      <th>id</th>\n",
       "      <th>fechanacimiento</th>\n",
       "      <th>sexo</th>\n",
       "      <th>prevision</th>\n",
       "      <th>especialidad</th>\n",
       "      <th>tipoatencion</th>\n",
       "      <th>fechareserva</th>\n",
       "      <th>fechahoracita</th>\n",
       "      <th>nsp</th>\n",
       "      <th>ag_proc_ot</th>\n",
       "      <th>prevision2</th>\n",
       "      <th>MesReserva</th>\n",
       "      <th>MesConsulta</th>\n",
       "      <th>DeltaDias</th>\n",
       "      <th>Days60</th>\n",
       "      <th>DaysGroup</th>\n",
       "      <th>TasaProcedimiento</th>\n",
       "      <th>TasaPrevision</th>\n",
       "      <th>TasaDays</th>\n",
       "    </tr>\n",
       "  </thead>\n",
       "  <tbody>\n",
       "    <tr>\n",
       "      <th>0</th>\n",
       "      <td>e1f568d43f199d828c9462e05c784c16</td>\n",
       "      <td>1965-05-18</td>\n",
       "      <td>f</td>\n",
       "      <td>FONASA C</td>\n",
       "      <td>GINECOLOGIA - AGENDA MEDICA</td>\n",
       "      <td>NUEVO</td>\n",
       "      <td>2018-11-12</td>\n",
       "      <td>2018-11-27 11:00:00</td>\n",
       "      <td>0</td>\n",
       "      <td>AGENDA</td>\n",
       "      <td>Fonasa</td>\n",
       "      <td>11</td>\n",
       "      <td>11</td>\n",
       "      <td>15</td>\n",
       "      <td>DaysNormal</td>\n",
       "      <td>G2</td>\n",
       "      <td>14.21</td>\n",
       "      <td>17.57</td>\n",
       "      <td>18.28</td>\n",
       "    </tr>\n",
       "    <tr>\n",
       "      <th>1</th>\n",
       "      <td>dbe9285fa3633f6baea7e382e3f120d0</td>\n",
       "      <td>1992-02-02</td>\n",
       "      <td>f</td>\n",
       "      <td>FONASA B</td>\n",
       "      <td>OBSTETRICIA - AGENDA MEDICA</td>\n",
       "      <td>CONTROL</td>\n",
       "      <td>2018-10-30</td>\n",
       "      <td>2018-11-13 10:30:00</td>\n",
       "      <td>1</td>\n",
       "      <td>AGENDA</td>\n",
       "      <td>Fonasa</td>\n",
       "      <td>10</td>\n",
       "      <td>11</td>\n",
       "      <td>14</td>\n",
       "      <td>DaysNormal</td>\n",
       "      <td>G2</td>\n",
       "      <td>14.21</td>\n",
       "      <td>17.57</td>\n",
       "      <td>18.28</td>\n",
       "    </tr>\n",
       "    <tr>\n",
       "      <th>2</th>\n",
       "      <td>27b54f22d85a9ffd835c31bdd8277548</td>\n",
       "      <td>1996-07-20</td>\n",
       "      <td>f</td>\n",
       "      <td>FONASA A</td>\n",
       "      <td>OBSTETRICIA - AGENDA MEDICA</td>\n",
       "      <td>CONTROL</td>\n",
       "      <td>2018-10-24</td>\n",
       "      <td>2018-11-06 10:15:00</td>\n",
       "      <td>0</td>\n",
       "      <td>AGENDA</td>\n",
       "      <td>Fonasa</td>\n",
       "      <td>10</td>\n",
       "      <td>11</td>\n",
       "      <td>13</td>\n",
       "      <td>DaysNormal</td>\n",
       "      <td>G2</td>\n",
       "      <td>14.21</td>\n",
       "      <td>17.57</td>\n",
       "      <td>18.28</td>\n",
       "    </tr>\n",
       "    <tr>\n",
       "      <th>3</th>\n",
       "      <td>f1d708b68b86fed7f71d8fefca787666</td>\n",
       "      <td>1986-07-22</td>\n",
       "      <td>f</td>\n",
       "      <td>FONASA D</td>\n",
       "      <td>OBSTETRICIA - AGENDA MEDICA</td>\n",
       "      <td>CONTROL</td>\n",
       "      <td>2018-11-12</td>\n",
       "      <td>2018-11-29 10:15:00</td>\n",
       "      <td>0</td>\n",
       "      <td>AGENDA</td>\n",
       "      <td>Fonasa</td>\n",
       "      <td>11</td>\n",
       "      <td>11</td>\n",
       "      <td>17</td>\n",
       "      <td>DaysNormal</td>\n",
       "      <td>G2</td>\n",
       "      <td>14.21</td>\n",
       "      <td>17.57</td>\n",
       "      <td>18.28</td>\n",
       "    </tr>\n",
       "    <tr>\n",
       "      <th>4</th>\n",
       "      <td>0c3797e1511d2e170ae83aaea1db774a</td>\n",
       "      <td>1978-10-06</td>\n",
       "      <td>f</td>\n",
       "      <td>FONASA B</td>\n",
       "      <td>OBSTETRICIA - AGENDA MEDICA</td>\n",
       "      <td>CONTROL</td>\n",
       "      <td>2018-11-12</td>\n",
       "      <td>2018-11-28 10:00:00</td>\n",
       "      <td>0</td>\n",
       "      <td>AGENDA</td>\n",
       "      <td>Fonasa</td>\n",
       "      <td>11</td>\n",
       "      <td>11</td>\n",
       "      <td>16</td>\n",
       "      <td>DaysNormal</td>\n",
       "      <td>G2</td>\n",
       "      <td>14.21</td>\n",
       "      <td>17.57</td>\n",
       "      <td>18.28</td>\n",
       "    </tr>\n",
       "  </tbody>\n",
       "</table>\n",
       "</div>"
      ],
      "text/plain": [
       "                                 id fechanacimiento sexo prevision  \\\n",
       "0  e1f568d43f199d828c9462e05c784c16      1965-05-18    f  FONASA C   \n",
       "1  dbe9285fa3633f6baea7e382e3f120d0      1992-02-02    f  FONASA B   \n",
       "2  27b54f22d85a9ffd835c31bdd8277548      1996-07-20    f  FONASA A   \n",
       "3  f1d708b68b86fed7f71d8fefca787666      1986-07-22    f  FONASA D   \n",
       "4  0c3797e1511d2e170ae83aaea1db774a      1978-10-06    f  FONASA B   \n",
       "\n",
       "                  especialidad tipoatencion fechareserva       fechahoracita  \\\n",
       "0  GINECOLOGIA - AGENDA MEDICA        NUEVO   2018-11-12 2018-11-27 11:00:00   \n",
       "1  OBSTETRICIA - AGENDA MEDICA      CONTROL   2018-10-30 2018-11-13 10:30:00   \n",
       "2  OBSTETRICIA - AGENDA MEDICA      CONTROL   2018-10-24 2018-11-06 10:15:00   \n",
       "3  OBSTETRICIA - AGENDA MEDICA      CONTROL   2018-11-12 2018-11-29 10:15:00   \n",
       "4  OBSTETRICIA - AGENDA MEDICA      CONTROL   2018-11-12 2018-11-28 10:00:00   \n",
       "\n",
       "   nsp ag_proc_ot prevision2  MesReserva  MesConsulta  DeltaDias      Days60  \\\n",
       "0    0     AGENDA     Fonasa          11           11         15  DaysNormal   \n",
       "1    1     AGENDA     Fonasa          10           11         14  DaysNormal   \n",
       "2    0     AGENDA     Fonasa          10           11         13  DaysNormal   \n",
       "3    0     AGENDA     Fonasa          11           11         17  DaysNormal   \n",
       "4    0     AGENDA     Fonasa          11           11         16  DaysNormal   \n",
       "\n",
       "  DaysGroup  TasaProcedimiento  TasaPrevision  TasaDays  \n",
       "0        G2              14.21          17.57     18.28  \n",
       "1        G2              14.21          17.57     18.28  \n",
       "2        G2              14.21          17.57     18.28  \n",
       "3        G2              14.21          17.57     18.28  \n",
       "4        G2              14.21          17.57     18.28  "
      ]
     },
     "execution_count": 115,
     "metadata": {},
     "output_type": "execute_result"
    }
   ],
   "source": [
    "data.head()"
   ]
  },
  {
   "cell_type": "markdown",
   "id": "624ef7f7-71a5-4ca6-a85c-daf86e4a66b6",
   "metadata": {},
   "source": [
    "## __Conclusiones del EDA__"
   ]
  },
  {
   "cell_type": "markdown",
   "id": "4fd56bce-7c8d-462d-b395-50aa79440b2e",
   "metadata": {},
   "source": [
    "* __Total Datos__ : 1048563\n",
    "* __18%__ De Desbalanceo\n",
    "* __Tipo Atención__: Principales son CONTROL y NUEVO (775K). Mayores atrasos : Peritaje y autorizado cuaderno\n",
    "* __Sexo__ : no hay gran diferencia entre hombres y mujeres\n",
    "* __Especialidad__: La mayoría es AGENDA. Mayor atraso OTROS PROFESIONALES\n",
    "* __Previsión__ : 80% del set es FONASA. Mayor ausentismo en ISAPRE y PARTICULAR\n",
    "* __Fechas__ : cuando la diferencia entre la agenda y la consulta es mayor a 60 días, hay mayor ausentismo "
   ]
  },
  {
   "cell_type": "markdown",
   "id": "7991f8b9-10ec-4117-98ba-79e4c5b9d408",
   "metadata": {},
   "source": [
    "## __Ideas para los Modelos__"
   ]
  },
  {
   "cell_type": "markdown",
   "id": "b6f49309-2176-4f42-ace5-89150929512d",
   "metadata": {},
   "source": [
    "* Hacer más de un modelo, ya sean modelos en paralelo o en serie\n",
    "* A partir del EDA haría un modelo para pacientes FONASA y otro para el resto. Esto por dos razones: la primera porque la gran mayoría del set son pacientes de FONASA y la segunda porque a través del EDA vimos que en el caso de servicios privados el ausentismo es un poco menos que el doble.\n",
    "* Dado el gran desbalanceo de clases accuracy no es la medida adecuada, por lo que hay que mirar otras como __Precisión y Recall__\n",
    "* En este caso debemos privilegiar la __Precisión__. La razón es sencilla: un __Falso Positivo__ nos va a dañar más que un __Falso Negativo__. Aplicado a un ejemplo: si decimos que un paciente se va a ausentar y le cancelamos la hora, pero el paciente llega entonces le haremos un gran daño al paciente que puede estar esperando la hora desde hace tiempo (Precisión Baja). Por otra parte si decimos que un paciente __NO__ se va a ausentar y finalmente se ausenta, entonces simplemente perderemos una hora ya tomada por lo que el daño no sería tan grave (Sensibilidad Baja).\n",
    "* Debido a desbalanceo además debemos buscar técnicas como __SMOTE , undersampling u oversampling__ para tratar de subsanar este problema "
   ]
  },
  {
   "cell_type": "code",
   "execution_count": null,
   "id": "1a63369e-9328-4193-b8d9-49dc1a440236",
   "metadata": {},
   "outputs": [],
   "source": []
  }
 ],
 "metadata": {
  "kernelspec": {
   "display_name": "Python 3 (ipykernel)",
   "language": "python",
   "name": "python3"
  },
  "language_info": {
   "codemirror_mode": {
    "name": "ipython",
    "version": 3
   },
   "file_extension": ".py",
   "mimetype": "text/x-python",
   "name": "python",
   "nbconvert_exporter": "python",
   "pygments_lexer": "ipython3",
   "version": "3.9.13"
  }
 },
 "nbformat": 4,
 "nbformat_minor": 5
}
